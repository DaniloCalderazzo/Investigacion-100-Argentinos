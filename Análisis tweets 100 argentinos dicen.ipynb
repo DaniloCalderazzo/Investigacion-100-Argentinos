{
 "cells": [
  {
   "cell_type": "markdown",
   "id": "aa9214a4",
   "metadata": {},
   "source": [
    "# Análisis tweets 100 argentinos dicen"
   ]
  },
  {
   "cell_type": "markdown",
   "id": "734c15bf",
   "metadata": {},
   "source": [
    "#### Extracción de datasets"
   ]
  },
  {
   "cell_type": "markdown",
   "id": "2c25a60f",
   "metadata": {},
   "source": [
    "Se extrajeron 5 datasets de tweets para analizar:<br>\n",
    "\n",
    "<ol><li>Cuenta de <a href=\"https://twitter.com/dariobarassi\">Dario Barassi</a></li>\n",
    "<li>Cuenta oficial <a href=\"https://twitter.com/100argdicen\">100 argentinos dicen</a></li>\n",
    "<li>Todos las mediciones de rating publicadas por <a href=\"https://twitter.com/YoAmoAlTrece\">@YoAmoAlTrece</a></li>\n",
    "<li>Todos los tweets con mencion a 100 argentinos dicen (hasta el 6 de febrero de 2021)</li>\n",
    "<li>Todos los tweets con mencion a 100 argentinos dicen (antes del 6 de febrero de 2021)</li>\n",
    "    </ol>\n",
    "    <br>\n",
    "\n",
    "Los datasets se extrajeron con el entorno de <a href=\"https://github.com/twintproject/twint/wiki/Basic-usage\">Twint</a> con las siguientes lineas. (copiar lineas y pegar en la consola) "
   ]
  },
  {
   "cell_type": "code",
   "execution_count": null,
   "id": "ceb7036e",
   "metadata": {},
   "outputs": [],
   "source": [
    "# Cuenta de barassi\n",
    "# Vamos a extraer a partir del 2019 ya que no queremos hhacer un analisis detallado sino una comparación antes \n",
    "# y despues de los ultimos dos años\n",
    "twint -u dariobarassi --since 2019-01-01 -ho -o dariobarassi.csv --csv --count\n",
    "#agrego el count para luego de terminar la extracción contabilizar cuantos tweets extraje"
   ]
  },
  {
   "cell_type": "code",
   "execution_count": null,
   "id": "1931646c",
   "metadata": {},
   "outputs": [],
   "source": [
    "#Cuenta oficial del programa\n",
    "twint -u 100argdicen -ho -o cuenta100argdicen.csv --csv --count"
   ]
  },
  {
   "cell_type": "code",
   "execution_count": null,
   "id": "690e75d4",
   "metadata": {},
   "outputs": [],
   "source": [
    "#Todos las mediciones de rating publicadas por @YoAmoAlTrece\n",
    "twint -u yoamoaltrece -s #100argentinosdicen -ho -o rating100argdicen.csv --csv --count\n",
    "# de la cuenta se extraen solo los tweets donde se nombra al programa(siempre usan el hashtags, utilizo esta pagina porque\n",
    "# es bastante metodica y tiene varios años)"
   ]
  },
  {
   "cell_type": "code",
   "execution_count": null,
   "id": "976868cb",
   "metadata": {},
   "outputs": [],
   "source": [
    "#Todos los tweets con mencion a 100 argentinos dicen (hasta el 6 de febrero de 2021)\n",
    "twint -s \"100 argentinos dicen\" -ho -o prueba100arg.csv --csv --count \n",
    "#por alguna razon esta linea que debería extraer todo junto solo extrae hasta el 2 de febrero de 2021 por lo que agregue\n",
    "#una segunda extracción para todos los tweets anteriores\n",
    "twint -s \"100 argentinos dicen\" --until 2021-02-06 -ho -o prueba100arg2.csv --csv --count"
   ]
  },
  {
   "cell_type": "markdown",
   "id": "70c18bbc",
   "metadata": {},
   "source": [
    "<b>Se extrajeron:</b>\n",
    "<li>1500 tweets aprox  de la cuenta de Barassi\n",
    "<li>170 aprox de la cuenta del programa\n",
    "<li>250 aprox de los ratings\n",
    "<li>35mil aprox de la primera consulta de mención \n",
    "<li>y 35 mil aprox de la segunda</li>\n",
    "<br>\n",
    "<b>Todos los tweets fueron guardados en documentos csv para analizarlos</b>"
   ]
  },
  {
   "cell_type": "markdown",
   "id": "b4179875",
   "metadata": {},
   "source": [
    "#### Importación librerias"
   ]
  },
  {
   "cell_type": "markdown",
   "id": "8cbb40ab",
   "metadata": {},
   "source": [
    "importamos librerias para el análisis de los datos"
   ]
  },
  {
   "cell_type": "code",
   "execution_count": 1,
   "id": "a9a700d0",
   "metadata": {},
   "outputs": [],
   "source": [
    "from datetime import date, datetime\n",
    "import numpy as np \n",
    "import pandas as pd\n",
    "import matplotlib.pyplot as plt"
   ]
  },
  {
   "cell_type": "markdown",
   "id": "badd36b8",
   "metadata": {},
   "source": [
    "#### Creamos los dataframes"
   ]
  },
  {
   "cell_type": "markdown",
   "id": "e052b29e",
   "metadata": {},
   "source": [
    "creamos e instanciamos los dataframe de pandas para poder trabajar con ellos.<br>\n",
    "Vamos a trabajar con cada dataframe por separado y para eso necesitamos \"abrir los archivos\""
   ]
  },
  {
   "cell_type": "code",
   "execution_count": 2,
   "id": "d2b80e57",
   "metadata": {},
   "outputs": [
    {
     "name": "stderr",
     "output_type": "stream",
     "text": [
      "E:\\Programas\\anaconda\\lib\\site-packages\\IPython\\core\\interactiveshell.py:3165: DtypeWarning: Columns (9) have mixed types.Specify dtype option on import or set low_memory=False.\n",
      "  has_raised = await self.run_ast_nodes(code_ast.body, cell_name,\n"
     ]
    }
   ],
   "source": [
    "#lee el archivo creado e instancia el dataframe en una variable inicial\n",
    "df_barassi = pd.read_csv(\"dariobarassi.csv\", delimiter='\\t', dtype={'name': object})\n",
    "                # nombre archivo , delimitador, tipos de datos dificles de reconocer\n",
    "df_100oficial = pd.read_csv(\"cuenta100argdicen.csv\", delimiter='\\t', dtype={'name': object})\n",
    "df_rating = pd.read_csv(\"rating100argdicen.csv\", delimiter='\\t', dtype={'name': object})\n",
    "df_m_1 = pd.read_csv(\"prueba100arg.csv\", delimiter='\\t', dtype={'name': object})\n",
    "df_m_2 = pd.read_csv(\"prueba100arg2.csv\", delimiter='\\t', dtype={'name': object})"
   ]
  },
  {
   "cell_type": "markdown",
   "id": "4260033f",
   "metadata": {},
   "source": [
    "aqui mostramos la información del primer dataframe completo"
   ]
  },
  {
   "cell_type": "code",
   "execution_count": null,
   "id": "0a009839",
   "metadata": {
    "scrolled": true
   },
   "outputs": [],
   "source": [
    "df_m_2.info()"
   ]
  },
  {
   "cell_type": "markdown",
   "id": "7f08876e",
   "metadata": {},
   "source": [
    "luego podemos revisar las primeras lineas de dataframe para visualizar un poco la información"
   ]
  },
  {
   "cell_type": "code",
   "execution_count": null,
   "id": "f7161c99",
   "metadata": {
    "scrolled": true
   },
   "outputs": [],
   "source": [
    "df_barassi.head()"
   ]
  },
  {
   "cell_type": "markdown",
   "id": "78632e71",
   "metadata": {},
   "source": [
    "#### Limpieza de datos"
   ]
  },
  {
   "cell_type": "markdown",
   "id": "7c98b8e2",
   "metadata": {},
   "source": [
    "Despues de analizar vemos que debido a como se extraen los tweets por la aplicación de twint en cada dataframe hay varias columnas que no vamos a utilizar o que nos agregan poca información por lo que vamos a descartarlas(se borran de las variables no de los archivos originales)\n",
    "<br>\n",
    "<li><b>created_at </b> (la extraccion con twint extrae fecha y hora pero transformando el horario al de nuestra locación, ademas esta columna es un string por lo que no podemos graficar con ella, usaremos \"date\" y \"time\") \n",
    "<li><b>timezone</b> (al igual que la anterior siempre va a ser la timezone de la extracción por lo que siempre es igual)\n",
    "<li><b>name</b>(el name es el nombre visual, no el arroba por lo que no es tan util y ademas contiene emojis lo que nos dificulta trabajar con ellos)\n",
    "<li><b>place</b> (nos indica con coordenadas desde donde fue realizado un tweet, de 35mil tweets solo tenemos 5 valores por lo que no es relevante)\n",
    "<li><b>language</b> (twitter tiene suele tener muchos problemas de reconocimientos de lenguajes, tomando en cuenta el tema vamos a tratar a todos los tweets como español)\n",
    "<li><b>cashtags</b> (son hastags pero para monedas digitales, no nos interesa)\n",
    "<li><b>retweet</b>(este tipo de busqueda no extrae retweets)\n",
    "<li><b>near</b> (columna vacía)             \n",
    "<li><b>geo  </b>   (columna vacía)             \n",
    "<li><b>source </b>        (columna vacía)      \n",
    "<li><b>user_rt_id </b>      (columna vacía)    \n",
    "<li><b>retweet_id </b>    (columna vacía)      \n",
    "<li><b>user_rt    </b>      (columna vacía)    \n",
    "<li><b>retweet_date</b>     (columna vacía)    \n",
    "<li><b>translate </b>       (columna vacía)    \n",
    "<li><b>trans_src  </b>      (columna vacía)    \n",
    "<li><b>trans_dest </b>     (columna vacía)    "
   ]
  },
  {
   "cell_type": "code",
   "execution_count": 3,
   "id": "44178052",
   "metadata": {
    "scrolled": true
   },
   "outputs": [],
   "source": [
    "#aqui vamos a borrar las columnas demás\n",
    "df_barassi = df_barassi.drop(columns=[\"created_at\",\"timezone\",\"name\",\"place\",\"language\",\"cashtags\",\"retweet\",\"near\",\"geo\",\"source\",\"user_rt_id\",\"retweet_id\",\"user_rt\",\"retweet_date\",\"translate\",\"trans_src\",\"trans_dest\"])\n",
    "df_100oficial = df_100oficial.drop(columns=[\"created_at\",\"timezone\",\"name\",\"place\",\"language\",\"cashtags\",\"retweet\",\"near\",\"geo\",\"source\",\"user_rt_id\",\"retweet_id\",\"user_rt\",\"retweet_date\",\"translate\",\"trans_src\",\"trans_dest\"])\n",
    "df_rating = df_rating.drop(columns=[\"created_at\",\"timezone\",\"name\",\"place\",\"language\",\"cashtags\",\"retweet\",\"near\",\"geo\",\"source\",\"user_rt_id\",\"retweet_id\",\"user_rt\",\"retweet_date\",\"translate\",\"trans_src\",\"trans_dest\"])\n",
    "df_m_1 = df_m_1.drop(columns=[\"created_at\",\"timezone\",\"name\",\"place\",\"language\",\"cashtags\",\"retweet\",\"near\",\"geo\",\"source\",\"user_rt_id\",\"retweet_id\",\"user_rt\",\"retweet_date\",\"translate\",\"trans_src\",\"trans_dest\"])\n",
    "df_m_2 = df_m_2.drop(columns=[\"created_at\",\"timezone\",\"name\",\"place\",\"language\",\"cashtags\",\"retweet\",\"near\",\"geo\",\"source\",\"user_rt_id\",\"retweet_id\",\"user_rt\",\"retweet_date\",\"translate\",\"trans_src\",\"trans_dest\"])\n",
    "\n"
   ]
  },
  {
   "cell_type": "code",
   "execution_count": null,
   "id": "1eff3656",
   "metadata": {},
   "outputs": [],
   "source": [
    "df_m_2.info()"
   ]
  },
  {
   "cell_type": "markdown",
   "id": "9d899a81",
   "metadata": {},
   "source": [
    "######  convertir fechas\n",
    "ahora precisamos unir la columna de date y tiempo para generar una columna que podamos convertir en tipo datetime y generar graficas"
   ]
  },
  {
   "cell_type": "code",
   "execution_count": 4,
   "id": "8f6011fa",
   "metadata": {},
   "outputs": [],
   "source": [
    "def formato_tiempo(tiempo):\n",
    "    tiempo_out= pd.to_timedelta(tiempo)\n",
    "    return tiempo_out\n",
    "df_barassi[\"time\"] = df_barassi[\"time\"].apply(formato_tiempo)\n",
    "df_100oficial[\"time\"] = df_100oficial[\"time\"].apply(formato_tiempo)\n",
    "df_rating[\"time\"] = df_rating[\"time\"].apply(pd.to_timedelta)\n",
    "df_m_1[\"time\"] = df_m_1[\"time\"].apply(formato_tiempo)\n",
    "df_m_2[\"time\"] = df_m_2[\"time\"].apply(formato_tiempo)"
   ]
  },
  {
   "cell_type": "code",
   "execution_count": 11,
   "id": "c607c276",
   "metadata": {
    "scrolled": true
   },
   "outputs": [
    {
     "name": "stdout",
     "output_type": "stream",
     "text": [
      "<class 'pandas.core.frame.DataFrame'>\n",
      "RangeIndex: 265 entries, 0 to 264\n",
      "Data columns (total 19 columns):\n",
      " #   Column           Non-Null Count  Dtype          \n",
      "---  ------           --------------  -----          \n",
      " 0   id               265 non-null    int64          \n",
      " 1   conversation_id  265 non-null    int64          \n",
      " 2   date             265 non-null    object         \n",
      " 3   time             265 non-null    timedelta64[ns]\n",
      " 4   user_id          265 non-null    int64          \n",
      " 5   username         265 non-null    object         \n",
      " 6   tweet            265 non-null    object         \n",
      " 7   mentions         265 non-null    object         \n",
      " 8   urls             265 non-null    object         \n",
      " 9   photos           265 non-null    object         \n",
      " 10  replies_count    265 non-null    int64          \n",
      " 11  retweets_count   265 non-null    int64          \n",
      " 12  likes_count      265 non-null    int64          \n",
      " 13  hashtags         265 non-null    object         \n",
      " 14  link             265 non-null    object         \n",
      " 15  quote_url        4 non-null      object         \n",
      " 16  video            265 non-null    int64          \n",
      " 17  thumbnail        249 non-null    object         \n",
      " 18  reply_to         265 non-null    object         \n",
      "dtypes: int64(7), object(11), timedelta64[ns](1)\n",
      "memory usage: 39.5+ KB\n"
     ]
    }
   ],
   "source": [
    "df_rating.info()"
   ]
  },
  {
   "cell_type": "code",
   "execution_count": 5,
   "id": "43e60e53",
   "metadata": {
    "scrolled": true
   },
   "outputs": [],
   "source": [
    "def formato_fecha(fecha):\n",
    "    fecha_out= pd.to_datetime(fecha, infer_datetime_format=True)\n",
    "    return fecha_out\n",
    "\n",
    "df_barassi[\"date\"] = df_barassi[\"date\"].apply(formato_fecha)\n",
    "df_100oficial[\"date\"] = df_100oficial[\"date\"].apply(formato_fecha)\n",
    "\n",
    "df_rating[\"date\"] = df_rating[\"date\"].apply(formato_fecha)\n",
    "\n",
    "df_m_1[\"date\"] = df_m_1[\"date\"].apply(formato_fecha)\n",
    "df_m_2[\"date\"] = df_m_2[\"date\"].apply(formato_fecha)\n"
   ]
  },
  {
   "cell_type": "code",
   "execution_count": 13,
   "id": "05f2094d",
   "metadata": {},
   "outputs": [
    {
     "name": "stdout",
     "output_type": "stream",
     "text": [
      "<class 'pandas.core.frame.DataFrame'>\n",
      "RangeIndex: 45268 entries, 0 to 45267\n",
      "Data columns (total 19 columns):\n",
      " #   Column           Non-Null Count  Dtype          \n",
      "---  ------           --------------  -----          \n",
      " 0   id               45268 non-null  int64          \n",
      " 1   conversation_id  45268 non-null  int64          \n",
      " 2   date             45268 non-null  datetime64[ns] \n",
      " 3   time             45268 non-null  timedelta64[ns]\n",
      " 4   user_id          45268 non-null  int64          \n",
      " 5   username         45268 non-null  object         \n",
      " 6   tweet            45268 non-null  object         \n",
      " 7   mentions         45268 non-null  object         \n",
      " 8   urls             45268 non-null  object         \n",
      " 9   photos           45268 non-null  object         \n",
      " 10  replies_count    45268 non-null  int64          \n",
      " 11  retweets_count   45268 non-null  int64          \n",
      " 12  likes_count      45268 non-null  int64          \n",
      " 13  hashtags         45268 non-null  object         \n",
      " 14  link             45268 non-null  object         \n",
      " 15  quote_url        1262 non-null   object         \n",
      " 16  video            45268 non-null  int64          \n",
      " 17  thumbnail        5634 non-null   object         \n",
      " 18  reply_to         45268 non-null  object         \n",
      "dtypes: datetime64[ns](1), int64(7), object(10), timedelta64[ns](1)\n",
      "memory usage: 6.6+ MB\n"
     ]
    }
   ],
   "source": [
    "df_m_2.info()"
   ]
  },
  {
   "cell_type": "markdown",
   "id": "c5f7a593",
   "metadata": {},
   "source": [
    "## Grafica de ratings"
   ]
  },
  {
   "cell_type": "code",
   "execution_count": 6,
   "id": "8dc0072e",
   "metadata": {
    "scrolled": false
   },
   "outputs": [
    {
     "data": {
      "text/html": [
       "<div>\n",
       "<style scoped>\n",
       "    .dataframe tbody tr th:only-of-type {\n",
       "        vertical-align: middle;\n",
       "    }\n",
       "\n",
       "    .dataframe tbody tr th {\n",
       "        vertical-align: top;\n",
       "    }\n",
       "\n",
       "    .dataframe thead th {\n",
       "        text-align: right;\n",
       "    }\n",
       "</style>\n",
       "<table border=\"1\" class=\"dataframe\">\n",
       "  <thead>\n",
       "    <tr style=\"text-align: right;\">\n",
       "      <th></th>\n",
       "      <th>id</th>\n",
       "      <th>tweet</th>\n",
       "      <th>date</th>\n",
       "      <th>time</th>\n",
       "    </tr>\n",
       "  </thead>\n",
       "  <tbody>\n",
       "    <tr>\n",
       "      <th>0</th>\n",
       "      <td>1437771398320205826</td>\n",
       "      <td>#Ratings #eltrece 13/9:  #ArribaArg 2.5⬇️ #Nos...</td>\n",
       "      <td>2021-09-14</td>\n",
       "      <td>0 days 10:33:08</td>\n",
       "    </tr>\n",
       "    <tr>\n",
       "      <th>2</th>\n",
       "      <td>1435601211680505860</td>\n",
       "      <td>#Ratings #eltrece 7/9:  #ArribaArg 2.3⬇️ #Noso...</td>\n",
       "      <td>2021-09-08</td>\n",
       "      <td>0 days 10:49:35</td>\n",
       "    </tr>\n",
       "    <tr>\n",
       "      <th>4</th>\n",
       "      <td>1435236693104283650</td>\n",
       "      <td>#Ratings #eltrece 6/9:  #ArribaArg 2.5⬇️ #Noso...</td>\n",
       "      <td>2021-09-07</td>\n",
       "      <td>0 days 10:41:07</td>\n",
       "    </tr>\n",
       "    <tr>\n",
       "      <th>5</th>\n",
       "      <td>1434871340645949442</td>\n",
       "      <td>#Ratings #eltrece 5/9 》  #Carburando2 1.6 #Los...</td>\n",
       "      <td>2021-09-06</td>\n",
       "      <td>0 days 10:29:20</td>\n",
       "    </tr>\n",
       "    <tr>\n",
       "      <th>6</th>\n",
       "      <td>1434167039254482950</td>\n",
       "      <td>#Ratings #eltrece 3/9:  #ArribaArg 2.8⬆️ #Noso...</td>\n",
       "      <td>2021-09-04</td>\n",
       "      <td>0 days 11:50:42</td>\n",
       "    </tr>\n",
       "    <tr>\n",
       "      <th>...</th>\n",
       "      <td>...</td>\n",
       "      <td>...</td>\n",
       "      <td>...</td>\n",
       "      <td>...</td>\n",
       "    </tr>\n",
       "    <tr>\n",
       "      <th>251</th>\n",
       "      <td>1299743718208081924</td>\n",
       "      <td>#Ratings #eltrece 28/8:  #ArribaArg 1.9 ⬇️ #No...</td>\n",
       "      <td>2020-08-29</td>\n",
       "      <td>0 days 13:20:25</td>\n",
       "    </tr>\n",
       "    <tr>\n",
       "      <th>252</th>\n",
       "      <td>1299362784677949440</td>\n",
       "      <td>#Ratings #eltrece 27/8:  #ArribaArg 2.1 ⬆️ #No...</td>\n",
       "      <td>2020-08-28</td>\n",
       "      <td>0 days 12:06:43</td>\n",
       "    </tr>\n",
       "    <tr>\n",
       "      <th>253</th>\n",
       "      <td>1298982864449503232</td>\n",
       "      <td>#Ratings #eltrece 26/8:  #ArribaArg 1.8 ⬇️ #No...</td>\n",
       "      <td>2020-08-27</td>\n",
       "      <td>0 days 10:57:03</td>\n",
       "    </tr>\n",
       "    <tr>\n",
       "      <th>254</th>\n",
       "      <td>1298638271602466816</td>\n",
       "      <td>#Ratings #eltrece 25/8:  #ArribaArg 2.0 ⬆️ #No...</td>\n",
       "      <td>2020-08-26</td>\n",
       "      <td>0 days 12:07:46</td>\n",
       "    </tr>\n",
       "    <tr>\n",
       "      <th>255</th>\n",
       "      <td>1298262328756994049</td>\n",
       "      <td>#Ratings #eltrece 24/8:  #ArribaArg 1.8 ⬆️ #No...</td>\n",
       "      <td>2020-08-25</td>\n",
       "      <td>0 days 11:13:54</td>\n",
       "    </tr>\n",
       "  </tbody>\n",
       "</table>\n",
       "<p>223 rows × 4 columns</p>\n",
       "</div>"
      ],
      "text/plain": [
       "                      id                                              tweet  \\\n",
       "0    1437771398320205826  #Ratings #eltrece 13/9:  #ArribaArg 2.5⬇️ #Nos...   \n",
       "2    1435601211680505860  #Ratings #eltrece 7/9:  #ArribaArg 2.3⬇️ #Noso...   \n",
       "4    1435236693104283650  #Ratings #eltrece 6/9:  #ArribaArg 2.5⬇️ #Noso...   \n",
       "5    1434871340645949442  #Ratings #eltrece 5/9 》  #Carburando2 1.6 #Los...   \n",
       "6    1434167039254482950  #Ratings #eltrece 3/9:  #ArribaArg 2.8⬆️ #Noso...   \n",
       "..                   ...                                                ...   \n",
       "251  1299743718208081924  #Ratings #eltrece 28/8:  #ArribaArg 1.9 ⬇️ #No...   \n",
       "252  1299362784677949440  #Ratings #eltrece 27/8:  #ArribaArg 2.1 ⬆️ #No...   \n",
       "253  1298982864449503232  #Ratings #eltrece 26/8:  #ArribaArg 1.8 ⬇️ #No...   \n",
       "254  1298638271602466816  #Ratings #eltrece 25/8:  #ArribaArg 2.0 ⬆️ #No...   \n",
       "255  1298262328756994049  #Ratings #eltrece 24/8:  #ArribaArg 1.8 ⬆️ #No...   \n",
       "\n",
       "          date            time  \n",
       "0   2021-09-14 0 days 10:33:08  \n",
       "2   2021-09-08 0 days 10:49:35  \n",
       "4   2021-09-07 0 days 10:41:07  \n",
       "5   2021-09-06 0 days 10:29:20  \n",
       "6   2021-09-04 0 days 11:50:42  \n",
       "..         ...             ...  \n",
       "251 2020-08-29 0 days 13:20:25  \n",
       "252 2020-08-28 0 days 12:06:43  \n",
       "253 2020-08-27 0 days 10:57:03  \n",
       "254 2020-08-26 0 days 12:07:46  \n",
       "255 2020-08-25 0 days 11:13:54  \n",
       "\n",
       "[223 rows x 4 columns]"
      ]
     },
     "execution_count": 6,
     "metadata": {},
     "output_type": "execute_result"
    }
   ],
   "source": [
    "#ratings\n",
    "df_rating=df_rating[df_rating[\"tweet\"].str.startswith(\"#Ratings\")]\n",
    "df_rating=df_rating[[\"id\",\"tweet\",\"date\",\"time\"]]\n",
    "#df_rating.to_excel('df_rating.xlsx')\n",
    "df_rating"
   ]
  },
  {
   "cell_type": "code",
   "execution_count": 7,
   "id": "98e08034",
   "metadata": {
    "scrolled": false
   },
   "outputs": [],
   "source": [
    "import re\n",
    "\n",
    "def limpiar_rating (Texto):\n",
    "    Texto = re.search(\"#100ArgentinosDicen ...\", Texto)\n",
    "    Texto= Texto.group(0)\n",
    "    Texto= re.sub(\"#100ArgentinosDicen\",\"\", Texto)\n",
    "    \n",
    "    return Texto\n",
    "\n",
    "\n",
    "df_rating[\"rating\"]=df_rating[\"tweet\"].apply(limpiar_rating)\n",
    "df_rating[\"rating\"]=df_rating[\"rating\"].astype(\"float\")"
   ]
  },
  {
   "cell_type": "code",
   "execution_count": null,
   "id": "478ad241",
   "metadata": {},
   "outputs": [],
   "source": [
    "df_rating"
   ]
  },
  {
   "cell_type": "code",
   "execution_count": 8,
   "id": "670cb306",
   "metadata": {
    "scrolled": true
   },
   "outputs": [
    {
     "data": {
      "text/plain": [
       "[<matplotlib.lines.Line2D at 0x1df5ea24700>]"
      ]
     },
     "execution_count": 8,
     "metadata": {},
     "output_type": "execute_result"
    },
    {
     "data": {
      "image/png": "[encoded data removed]",
      "text/plain": [
       "<Figure size 432x288 with 1 Axes>"
      ]
     },
     "metadata": {
      "needs_background": "light"
     },
     "output_type": "display_data"
    }
   ],
   "source": [
    "df_rating_plt= df_rating[[\"date\",\"rating\"]]\n",
    "plt.plot_date(df_rating_plt[\"date\"],df_rating_plt[\"rating\"])\n"
   ]
  },
  {
   "cell_type": "code",
   "execution_count": 49,
   "id": "57446391",
   "metadata": {},
   "outputs": [
    {
     "data": {
      "text/plain": [
       "<AxesSubplot:xlabel='Fechas'>"
      ]
     },
     "execution_count": 49,
     "metadata": {},
     "output_type": "execute_result"
    },
    {
     "data": {
      "image/png": "[encoded data removed]",
      "text/plain": [
       "<Figure size 432x288 with 1 Axes>"
      ]
     },
     "metadata": {
      "needs_background": "light"
     },
     "output_type": "display_data"
    }
   ],
   "source": [
    "df_rating_plt_m=df_rating_plt.groupby(pd.Grouper(key='date', axis=0, \n",
    "                      freq='M',)).mean()\n",
    "df_rating_plt_m.plot(linewidth = '5.0', xlabel=\"Fechas\",label=\"Disparó el Rating\",legend=\"Rating\",color = '#7103A5C4')"
   ]
  },
  {
   "cell_type": "markdown",
   "id": "baca4c48",
   "metadata": {},
   "source": [
    "## Grafica Barasi likes y actividad"
   ]
  },
  {
   "cell_type": "code",
   "execution_count": 10,
   "id": "f66cd6d8",
   "metadata": {},
   "outputs": [
    {
     "data": {
      "text/plain": [
       "<AxesSubplot:xlabel='Fecha', ylabel='Cantidad Tweets'>"
      ]
     },
     "execution_count": 10,
     "metadata": {},
     "output_type": "execute_result"
    },
    {
     "data": {
      "image/png": "[encoded data removed]",
      "text/plain": [
       "<Figure size 1152x288 with 1 Axes>"
      ]
     },
     "metadata": {
      "needs_background": "light"
     },
     "output_type": "display_data"
    }
   ],
   "source": [
    "#grafica de actividad mensual\n",
    "df_barassi\n",
    "df_act_barassi = df_barassi[[\"date\",\"tweet\"]].groupby(pd.Grouper(key='date', axis=0, \n",
    "                      freq='M',)).count()\n",
    "df_act_barassi.plot(figsize=(16, 4), xlabel=\"Fecha\",linewidth = '5.0', ylabel=\"Cantidad Tweets\", label=\"Actividad mensual\", legend=False)"
   ]
  },
  {
   "cell_type": "code",
   "execution_count": 19,
   "id": "58a7a501",
   "metadata": {},
   "outputs": [
    {
     "data": {
      "image/png": "[encoded data removed]",
      "text/plain": [
       "<Figure size 1152x288 with 1 Axes>"
      ]
     },
     "metadata": {
      "needs_background": "light"
     },
     "output_type": "display_data"
    }
   ],
   "source": [
    "#plt cantidad de likes recibidos\n",
    "time_favs_barassi = pd.Series(data=df_barassi['likes_count'].values, index=df_barassi['date'])\n",
    "time_favs_barassi.plot(figsize=(16, 4), color='r')\n",
    "plt.show()"
   ]
  },
  {
   "cell_type": "code",
   "execution_count": 20,
   "id": "a544998f",
   "metadata": {
    "scrolled": true
   },
   "outputs": [
    {
     "data": {
      "image/png": "[encoded data removed]",
      "text/plain": [
       "<Figure size 1152x288 with 1 Axes>"
      ]
     },
     "metadata": {
      "needs_background": "light"
     },
     "output_type": "display_data"
    }
   ],
   "source": [
    "#plt cantidad de replies_count\n",
    "time_favs_barassi = pd.Series(data=df_barassi['replies_count'].values, index=df_barassi['date'])\n",
    "time_favs_barassi.plot(figsize=(16, 4), color='r')\n",
    "plt.show()"
   ]
  },
  {
   "cell_type": "code",
   "execution_count": 12,
   "id": "396dbeaf",
   "metadata": {},
   "outputs": [
    {
     "data": {
      "text/plain": [
       "57711"
      ]
     },
     "execution_count": 12,
     "metadata": {},
     "output_type": "execute_result"
    }
   ],
   "source": [
    "df_barassi[\"likes_count\"].max()"
   ]
  },
  {
   "cell_type": "code",
   "execution_count": 19,
   "id": "2c50b490",
   "metadata": {},
   "outputs": [
    {
     "data": {
      "text/html": [
       "<div>\n",
       "<style scoped>\n",
       "    .dataframe tbody tr th:only-of-type {\n",
       "        vertical-align: middle;\n",
       "    }\n",
       "\n",
       "    .dataframe tbody tr th {\n",
       "        vertical-align: top;\n",
       "    }\n",
       "\n",
       "    .dataframe thead th {\n",
       "        text-align: right;\n",
       "    }\n",
       "</style>\n",
       "<table border=\"1\" class=\"dataframe\">\n",
       "  <thead>\n",
       "    <tr style=\"text-align: right;\">\n",
       "      <th></th>\n",
       "      <th>id</th>\n",
       "      <th>conversation_id</th>\n",
       "      <th>date</th>\n",
       "      <th>time</th>\n",
       "      <th>user_id</th>\n",
       "      <th>username</th>\n",
       "      <th>tweet</th>\n",
       "      <th>mentions</th>\n",
       "      <th>urls</th>\n",
       "      <th>photos</th>\n",
       "      <th>replies_count</th>\n",
       "      <th>retweets_count</th>\n",
       "      <th>likes_count</th>\n",
       "      <th>hashtags</th>\n",
       "      <th>link</th>\n",
       "      <th>quote_url</th>\n",
       "      <th>video</th>\n",
       "      <th>thumbnail</th>\n",
       "      <th>reply_to</th>\n",
       "    </tr>\n",
       "  </thead>\n",
       "  <tbody>\n",
       "    <tr>\n",
       "      <th>103</th>\n",
       "      <td>1415448296966041606</td>\n",
       "      <td>1415448296966041606</td>\n",
       "      <td>2021-07-14</td>\n",
       "      <td>0 days 20:09:06</td>\n",
       "      <td>174345178</td>\n",
       "      <td>dariobarassi</td>\n",
       "      <td>Xq vos toda producida @lalioficial al rojo 🔥🔥🔥...</td>\n",
       "      <td>[{'screen_name': 'lalioficial', 'name': 'lali'...</td>\n",
       "      <td>[]</td>\n",
       "      <td>[]</td>\n",
       "      <td>421</td>\n",
       "      <td>1562</td>\n",
       "      <td>57711</td>\n",
       "      <td>[]</td>\n",
       "      <td>https://twitter.com/dariobarassi/status/141544...</td>\n",
       "      <td>https://twitter.com/RatingLucca/status/1415434...</td>\n",
       "      <td>0</td>\n",
       "      <td>NaN</td>\n",
       "      <td>[]</td>\n",
       "    </tr>\n",
       "  </tbody>\n",
       "</table>\n",
       "</div>"
      ],
      "text/plain": [
       "                      id      conversation_id       date            time  \\\n",
       "103  1415448296966041606  1415448296966041606 2021-07-14 0 days 20:09:06   \n",
       "\n",
       "       user_id      username  \\\n",
       "103  174345178  dariobarassi   \n",
       "\n",
       "                                                 tweet  \\\n",
       "103  Xq vos toda producida @lalioficial al rojo 🔥🔥🔥...   \n",
       "\n",
       "                                              mentions urls photos  \\\n",
       "103  [{'screen_name': 'lalioficial', 'name': 'lali'...   []     []   \n",
       "\n",
       "     replies_count  retweets_count  likes_count hashtags  \\\n",
       "103            421            1562        57711       []   \n",
       "\n",
       "                                                  link  \\\n",
       "103  https://twitter.com/dariobarassi/status/141544...   \n",
       "\n",
       "                                             quote_url  video thumbnail  \\\n",
       "103  https://twitter.com/RatingLucca/status/1415434...      0       NaN   \n",
       "\n",
       "    reply_to  \n",
       "103       []  "
      ]
     },
     "execution_count": 19,
     "metadata": {},
     "output_type": "execute_result"
    }
   ],
   "source": [
    "df_barassi[(df_barassi[\"likes_count\"] == 57711)]"
   ]
  },
  {
   "cell_type": "markdown",
   "id": "33e46607",
   "metadata": {},
   "source": [
    "## Grafica likes cuenta oficial 100 arg"
   ]
  },
  {
   "cell_type": "code",
   "execution_count": 21,
   "id": "94044aaf",
   "metadata": {},
   "outputs": [
    {
     "data": {
      "image/png": "[encoded data removed]",
      "text/plain": [
       "<Figure size 1152x288 with 1 Axes>"
      ]
     },
     "metadata": {
      "needs_background": "light"
     },
     "output_type": "display_data"
    }
   ],
   "source": [
    "#plt cantidad de likes recibidos\n",
    "time_favs_o_100arg = pd.Series(data=df_100oficial['likes_count'].values, index=df_100oficial['date'])\n",
    "time_favs_o_100arg.plot(figsize=(16, 4), color='r')\n",
    "plt.show()"
   ]
  },
  {
   "cell_type": "code",
   "execution_count": 22,
   "id": "f96d0ea0",
   "metadata": {
    "scrolled": true
   },
   "outputs": [
    {
     "data": {
      "image/png": "[encoded data removed]",
      "text/plain": [
       "<Figure size 1152x288 with 1 Axes>"
      ]
     },
     "metadata": {
      "needs_background": "light"
     },
     "output_type": "display_data"
    }
   ],
   "source": [
    "#plt cantidad de replies_count\n",
    "time_favs_o_100arg = pd.Series(data=df_100oficial['replies_count'].values, index=df_100oficial['date'])\n",
    "time_favs_o_100arg.plot(figsize=(16, 4), color='r')\n",
    "plt.show()"
   ]
  },
  {
   "cell_type": "code",
   "execution_count": 20,
   "id": "f9f17100",
   "metadata": {},
   "outputs": [
    {
     "data": {
      "text/plain": [
       "31674"
      ]
     },
     "execution_count": 20,
     "metadata": {},
     "output_type": "execute_result"
    }
   ],
   "source": [
    "df_100oficial[\"likes_count\"].max()"
   ]
  },
  {
   "cell_type": "code",
   "execution_count": 21,
   "id": "b6520fd9",
   "metadata": {},
   "outputs": [
    {
     "data": {
      "text/html": [
       "<div>\n",
       "<style scoped>\n",
       "    .dataframe tbody tr th:only-of-type {\n",
       "        vertical-align: middle;\n",
       "    }\n",
       "\n",
       "    .dataframe tbody tr th {\n",
       "        vertical-align: top;\n",
       "    }\n",
       "\n",
       "    .dataframe thead th {\n",
       "        text-align: right;\n",
       "    }\n",
       "</style>\n",
       "<table border=\"1\" class=\"dataframe\">\n",
       "  <thead>\n",
       "    <tr style=\"text-align: right;\">\n",
       "      <th></th>\n",
       "      <th>id</th>\n",
       "      <th>conversation_id</th>\n",
       "      <th>date</th>\n",
       "      <th>time</th>\n",
       "      <th>user_id</th>\n",
       "      <th>username</th>\n",
       "      <th>tweet</th>\n",
       "      <th>mentions</th>\n",
       "      <th>urls</th>\n",
       "      <th>photos</th>\n",
       "      <th>replies_count</th>\n",
       "      <th>retweets_count</th>\n",
       "      <th>likes_count</th>\n",
       "      <th>hashtags</th>\n",
       "      <th>link</th>\n",
       "      <th>quote_url</th>\n",
       "      <th>video</th>\n",
       "      <th>thumbnail</th>\n",
       "      <th>reply_to</th>\n",
       "    </tr>\n",
       "  </thead>\n",
       "  <tbody>\n",
       "    <tr>\n",
       "      <th>13</th>\n",
       "      <td>1433134936681222148</td>\n",
       "      <td>1433134936681222148</td>\n",
       "      <td>2021-09-01</td>\n",
       "      <td>0 days 15:29:29</td>\n",
       "      <td>1278853300750876674</td>\n",
       "      <td>100argdicen</td>\n",
       "      <td>La particular risa de esta participante asustó...</td>\n",
       "      <td>[]</td>\n",
       "      <td>[]</td>\n",
       "      <td>[]</td>\n",
       "      <td>345</td>\n",
       "      <td>3137</td>\n",
       "      <td>31674</td>\n",
       "      <td>['100argentinosdicen']</td>\n",
       "      <td>https://twitter.com/100argdicen/status/1433134...</td>\n",
       "      <td>NaN</td>\n",
       "      <td>1</td>\n",
       "      <td>https://pbs.twimg.com/ext_tw_video_thumb/14331...</td>\n",
       "      <td>[]</td>\n",
       "    </tr>\n",
       "  </tbody>\n",
       "</table>\n",
       "</div>"
      ],
      "text/plain": [
       "                     id      conversation_id       date            time  \\\n",
       "13  1433134936681222148  1433134936681222148 2021-09-01 0 days 15:29:29   \n",
       "\n",
       "                user_id     username  \\\n",
       "13  1278853300750876674  100argdicen   \n",
       "\n",
       "                                                tweet mentions urls photos  \\\n",
       "13  La particular risa de esta participante asustó...       []   []     []   \n",
       "\n",
       "    replies_count  retweets_count  likes_count                hashtags  \\\n",
       "13            345            3137        31674  ['100argentinosdicen']   \n",
       "\n",
       "                                                 link quote_url  video  \\\n",
       "13  https://twitter.com/100argdicen/status/1433134...       NaN      1   \n",
       "\n",
       "                                            thumbnail reply_to  \n",
       "13  https://pbs.twimg.com/ext_tw_video_thumb/14331...       []  "
      ]
     },
     "execution_count": 21,
     "metadata": {},
     "output_type": "execute_result"
    }
   ],
   "source": [
    "df_100oficial[df_100oficial[\"likes_count\"] == df_100oficial[\"likes_count\"].max()]"
   ]
  },
  {
   "cell_type": "markdown",
   "id": "98c3a741",
   "metadata": {},
   "source": [
    "## limpiar bots dataframes grandes"
   ]
  },
  {
   "cell_type": "code",
   "execution_count": 22,
   "id": "671a7b1f",
   "metadata": {},
   "outputs": [],
   "source": [
    "df_m_1[\"hashtags\"] = df_m_1[\"hashtags\"].apply(eval)\n",
    "df_m_2[\"hashtags\"] = df_m_2[\"hashtags\"].apply(eval)"
   ]
  },
  {
   "cell_type": "code",
   "execution_count": null,
   "id": "bbb34713",
   "metadata": {},
   "outputs": [],
   "source": [
    "df_m_1.shape"
   ]
  },
  {
   "cell_type": "code",
   "execution_count": null,
   "id": "db5f9595",
   "metadata": {},
   "outputs": [],
   "source": [
    "df_m_2.shape"
   ]
  },
  {
   "cell_type": "code",
   "execution_count": null,
   "id": "b968ff5b",
   "metadata": {},
   "outputs": [],
   "source": [
    "df_m_prueba=df_m_1[df_m_1[\"date\"] > pd.Timestamp(\"2021-09-15\")]\n",
    "df_m_prueba"
   ]
  },
  {
   "cell_type": "code",
   "execution_count": 23,
   "id": "dfba6df1",
   "metadata": {},
   "outputs": [],
   "source": [
    "def len_hashtags (hashta):\n",
    "    len_hashta=len(hashta)\n",
    "    return len_hashta\n",
    "\n",
    "\n",
    "\n",
    "\n"
   ]
  },
  {
   "cell_type": "code",
   "execution_count": 24,
   "id": "5ee2c681",
   "metadata": {},
   "outputs": [
    {
     "data": {
      "text/plain": [
       "(36109, 20)"
      ]
     },
     "execution_count": 24,
     "metadata": {},
     "output_type": "execute_result"
    }
   ],
   "source": [
    "df_m_1[\"len_hashtags\"]=df_m_1[\"hashtags\"].apply(len_hashtags)\n",
    "df_m_1=df_m_1[df_m_1[\"len_hashtags\"] <= 4]\n",
    "df_m_1.shape"
   ]
  },
  {
   "cell_type": "code",
   "execution_count": null,
   "id": "4c7e7044",
   "metadata": {},
   "outputs": [],
   "source": [
    "df_m_1"
   ]
  },
  {
   "cell_type": "code",
   "execution_count": 25,
   "id": "99ee9a56",
   "metadata": {},
   "outputs": [
    {
     "data": {
      "text/plain": [
       "(39769, 20)"
      ]
     },
     "execution_count": 25,
     "metadata": {},
     "output_type": "execute_result"
    }
   ],
   "source": [
    "df_m_2[\"len_hashtags\"]=df_m_2[\"hashtags\"].apply(len_hashtags)\n",
    "df_m_2=df_m_2[df_m_2[\"len_hashtags\"] <= 4]\n",
    "df_m_2.shape"
   ]
  },
  {
   "cell_type": "markdown",
   "id": "b4d46e48",
   "metadata": {},
   "source": [
    "## ahora si, unimos los dos dataframes"
   ]
  },
  {
   "cell_type": "code",
   "execution_count": 27,
   "id": "419dda85",
   "metadata": {},
   "outputs": [
    {
     "data": {
      "text/plain": [
       "(75878, 20)"
      ]
     },
     "execution_count": 27,
     "metadata": {},
     "output_type": "execute_result"
    }
   ],
   "source": [
    "df_menciones=pd.concat([df_m_1,df_m_2])\n",
    "df_menciones.shape"
   ]
  },
  {
   "cell_type": "code",
   "execution_count": 29,
   "id": "3cc9048e",
   "metadata": {},
   "outputs": [
    {
     "data": {
      "text/plain": [
       "75878"
      ]
     },
     "execution_count": 29,
     "metadata": {},
     "output_type": "execute_result"
    }
   ],
   "source": [
    "df_menciones_conteo= df_menciones[\"id\"].size\n",
    "df_menciones_conteo"
   ]
  },
  {
   "cell_type": "code",
   "execution_count": 30,
   "id": "fc886d87",
   "metadata": {},
   "outputs": [
    {
     "data": {
      "text/plain": [
       "([<matplotlib.patches.Wedge at 0x1df5df0a2b0>,\n",
       "  <matplotlib.patches.Wedge at 0x1df5df0a100>],\n",
       " [Text(1.1860731136408507, 0.5321941084776287, 'Tweets con Memes :)'),\n",
       "  Text(-1.0036003269268736, -0.45031809178876264, 'Tweets sin memes :(')])"
      ]
     },
     "execution_count": 30,
     "metadata": {},
     "output_type": "execute_result"
    },
    {
     "data": {
      "image/png": "[encoded data removed]",
      "text/plain": [
       "<Figure size 432x288 with 1 Axes>"
      ]
     },
     "metadata": {},
     "output_type": "display_data"
    }
   ],
   "source": [
    "#grafica tweets que tienen memes? \n",
    "cantidad_memes=df_menciones[(df_menciones[\"photos\"].str.startswith(\"[]\") == False) | (df_menciones[\"video\"] == 1)].id.size\n",
    "cantidad_no_memes= df_menciones_conteo - cantidad_memes\n",
    "cantidad_memes_j=[cantidad_memes, cantidad_no_memes]\n",
    "leyendas=[\"Tweets con Memes :)\", \"Tweets sin memes :(\"]\n",
    "explosion = [0.2, 0]\n",
    "plt.pie(cantidad_memes_j, labels = leyendas, explode = explosion)\n",
    "\n"
   ]
  },
  {
   "cell_type": "code",
   "execution_count": 31,
   "id": "71aade55",
   "metadata": {},
   "outputs": [
    {
     "data": {
      "text/plain": [
       "([<matplotlib.patches.Wedge at 0x1df5fc0b1f0>,\n",
       "  <matplotlib.patches.Wedge at 0x1df5fc0b940>],\n",
       " [Text(-0.757285774252692, 1.0566542746397714, 'Tweets que usan el hashtag :)'),\n",
       "  Text(0.6407803542324477, -0.8940920185471622, 'Tweets que no usan el hashtag :(')])"
      ]
     },
     "execution_count": 31,
     "metadata": {},
     "output_type": "execute_result"
    },
    {
     "data": {
      "image/png": "[encoded data removed]",
      "text/plain": [
       "<Figure size 432x288 with 1 Axes>"
      ]
     },
     "metadata": {},
     "output_type": "display_data"
    }
   ],
   "source": [
    "#cantidad de tweets con hashtag 100argentinos dicen\n",
    "df_hashtag=df_menciones[df_menciones[\"tweet\"].str.contains(\"#100ArgentinosDicen\")]\n",
    "\n",
    "\n",
    "#grafica tweets que usan el hashtag\n",
    "cantidad_hashtag=df_hashtag[\"id\"].size\n",
    "cantidad_no_hashtag= df_menciones_conteo - cantidad_hashtag\n",
    "cantidad_hashtag_j=np.array([cantidad_hashtag, cantidad_no_hashtag])\n",
    "leyendas=[\"Tweets que usan el hashtag :)\", \"Tweets que no usan el hashtag :(\"]\n",
    "explosion = [0.2, 0]\n",
    "plt.pie(cantidad_hashtag_j, labels = leyendas, explode = explosion)"
   ]
  },
  {
   "cell_type": "code",
   "execution_count": 44,
   "id": "6274958b",
   "metadata": {},
   "outputs": [
    {
     "data": {
      "text/plain": [
       "<AxesSubplot:xlabel='Fecha', ylabel='Cantidad Tweets'>"
      ]
     },
     "execution_count": 44,
     "metadata": {},
     "output_type": "execute_result"
    },
    {
     "data": {
      "image/png": "[encoded data removed]",
      "text/plain": [
       "<Figure size 1152x288 with 1 Axes>"
      ]
     },
     "metadata": {
      "needs_background": "light"
     },
     "output_type": "display_data"
    }
   ],
   "source": [
    "#grafica de actividad dia\n",
    "df_menciones_act = df_menciones[df_menciones[\"date\"].dt.date > pd.Timestamp(\"2020-08-1 00:00:01\")]\n",
    "df_menciones_act_dia = df_menciones_act[[\"date\",\"tweet\"]].groupby(pd.Grouper(key='date', axis=0, \n",
    "                      freq='D',)).count()\n",
    "df_menciones_act_dia.plot(figsize=(16, 4), xlabel=\"Fecha\",linewidth = '5.0', ylabel=\"Cantidad Tweets\", label=\"Actividad por día\", legend=False)"
   ]
  },
  {
   "cell_type": "code",
   "execution_count": 52,
   "id": "3c892240",
   "metadata": {},
   "outputs": [
    {
     "data": {
      "text/plain": [
       "<AxesSubplot:xlabel='Fecha', ylabel='Cantidad Tweets'>"
      ]
     },
     "execution_count": 52,
     "metadata": {},
     "output_type": "execute_result"
    },
    {
     "data": {
      "image/png": "[encoded data removed]",
      "text/plain": [
       "<Figure size 432x288 with 1 Axes>"
      ]
     },
     "metadata": {
      "needs_background": "light"
     },
     "output_type": "display_data"
    }
   ],
   "source": [
    "#grafica de actividad mensual \n",
    "\n",
    "df_menciones_act_m = df_menciones_act[[\"date\",\"tweet\"]].groupby(pd.Grouper(key='date', axis=0, \n",
    "                      freq='M',)).count()\n",
    "df_menciones_act_m.plot( xlabel=\"Fecha\",linewidth = '5.0', ylabel=\"Cantidad Tweets\", label=\"Actividad mensual\", legend=False, color = '#7103A5C4')"
   ]
  },
  {
   "cell_type": "code",
   "execution_count": 61,
   "id": "bf04018f",
   "metadata": {},
   "outputs": [
    {
     "data": {
      "text/plain": [
       "<AxesSubplot:xlabel='Horas de Mayor Actividad', ylabel='Cantidad de Tweets'>"
      ]
     },
     "execution_count": 61,
     "metadata": {},
     "output_type": "execute_result"
    },
    {
     "data": {
      "image/png": "[encoded data removed]",
      "text/plain": [
       "<Figure size 576x288 with 1 Axes>"
      ]
     },
     "metadata": {
      "needs_background": "light"
     },
     "output_type": "display_data"
    }
   ],
   "source": [
    "#grafica actividad menciones horas\n",
    "df_menciones_act_h = df_menciones_act[[\"time\",\"tweet\"]].groupby(pd.Grouper(key='time', axis=0, \n",
    "                      freq='H',)).count()\n",
    "df_menciones_act_h.plot(figsize=(8, 4), xlabel=\"Horas de Mayor Actividad\",linewidth = '5.0', ylabel=\"Cantidad de Tweets\", label=\"Actividad por hora\", legend=False, color = '#7103A5C4')"
   ]
  },
  {
   "cell_type": "markdown",
   "id": "f7e0f509",
   "metadata": {},
   "source": [
    "###### grafica google busquedas del programa"
   ]
  },
  {
   "cell_type": "code",
   "execution_count": 42,
   "id": "cb4ec197",
   "metadata": {},
   "outputs": [
    {
     "data": {
      "text/html": [
       "<div>\n",
       "<style scoped>\n",
       "    .dataframe tbody tr th:only-of-type {\n",
       "        vertical-align: middle;\n",
       "    }\n",
       "\n",
       "    .dataframe tbody tr th {\n",
       "        vertical-align: top;\n",
       "    }\n",
       "\n",
       "    .dataframe thead th {\n",
       "        text-align: right;\n",
       "    }\n",
       "</style>\n",
       "<table border=\"1\" class=\"dataframe\">\n",
       "  <thead>\n",
       "    <tr style=\"text-align: right;\">\n",
       "      <th></th>\n",
       "      <th>tweet</th>\n",
       "    </tr>\n",
       "    <tr>\n",
       "      <th>date</th>\n",
       "      <th></th>\n",
       "    </tr>\n",
       "  </thead>\n",
       "  <tbody>\n",
       "    <tr>\n",
       "      <th>2020-08-24</th>\n",
       "      <td>948</td>\n",
       "    </tr>\n",
       "    <tr>\n",
       "      <th>2021-02-05</th>\n",
       "      <td>1205</td>\n",
       "    </tr>\n",
       "    <tr>\n",
       "      <th>2021-05-21</th>\n",
       "      <td>1739</td>\n",
       "    </tr>\n",
       "    <tr>\n",
       "      <th>2021-06-06</th>\n",
       "      <td>1028</td>\n",
       "    </tr>\n",
       "    <tr>\n",
       "      <th>2021-06-16</th>\n",
       "      <td>872</td>\n",
       "    </tr>\n",
       "    <tr>\n",
       "      <th>2021-09-01</th>\n",
       "      <td>1138</td>\n",
       "    </tr>\n",
       "    <tr>\n",
       "      <th>2021-09-13</th>\n",
       "      <td>1538</td>\n",
       "    </tr>\n",
       "  </tbody>\n",
       "</table>\n",
       "</div>"
      ],
      "text/plain": [
       "            tweet\n",
       "date             \n",
       "2020-08-24    948\n",
       "2021-02-05   1205\n",
       "2021-05-21   1739\n",
       "2021-06-06   1028\n",
       "2021-06-16    872\n",
       "2021-09-01   1138\n",
       "2021-09-13   1538"
      ]
     },
     "execution_count": 42,
     "metadata": {},
     "output_type": "execute_result"
    }
   ],
   "source": [
    "df_menciones_act_dia[df_menciones_act_dia[\"tweet\"] > 750]"
   ]
  },
  {
   "cell_type": "code",
   "execution_count": 55,
   "id": "ee17333d",
   "metadata": {},
   "outputs": [
    {
     "data": {
      "text/html": [
       "<div>\n",
       "<style scoped>\n",
       "    .dataframe tbody tr th:only-of-type {\n",
       "        vertical-align: middle;\n",
       "    }\n",
       "\n",
       "    .dataframe tbody tr th {\n",
       "        vertical-align: top;\n",
       "    }\n",
       "\n",
       "    .dataframe thead th {\n",
       "        text-align: right;\n",
       "    }\n",
       "</style>\n",
       "<table border=\"1\" class=\"dataframe\">\n",
       "  <thead>\n",
       "    <tr style=\"text-align: right;\">\n",
       "      <th></th>\n",
       "      <th>id</th>\n",
       "      <th>conversation_id</th>\n",
       "      <th>date</th>\n",
       "      <th>time</th>\n",
       "      <th>user_id</th>\n",
       "      <th>username</th>\n",
       "      <th>tweet</th>\n",
       "      <th>mentions</th>\n",
       "      <th>urls</th>\n",
       "      <th>photos</th>\n",
       "      <th>replies_count</th>\n",
       "      <th>retweets_count</th>\n",
       "      <th>likes_count</th>\n",
       "      <th>hashtags</th>\n",
       "      <th>link</th>\n",
       "      <th>quote_url</th>\n",
       "      <th>video</th>\n",
       "      <th>thumbnail</th>\n",
       "      <th>reply_to</th>\n",
       "      <th>len_hashtags</th>\n",
       "    </tr>\n",
       "  </thead>\n",
       "  <tbody>\n",
       "    <tr>\n",
       "      <th>15056</th>\n",
       "      <td>1426273105597640705</td>\n",
       "      <td>1426273105597640705</td>\n",
       "      <td>2021-08-13</td>\n",
       "      <td>0 days 17:03:01</td>\n",
       "      <td>973302847654760448</td>\n",
       "      <td>porquetendencia</td>\n",
       "      <td>\"Barassi\": Por su cruce con un participante de...</td>\n",
       "      <td>[]</td>\n",
       "      <td>[]</td>\n",
       "      <td>[]</td>\n",
       "      <td>1369</td>\n",
       "      <td>7916</td>\n",
       "      <td>113637</td>\n",
       "      <td>[100argentinosdicen]</td>\n",
       "      <td>https://twitter.com/porquetendencia/status/142...</td>\n",
       "      <td>NaN</td>\n",
       "      <td>1</td>\n",
       "      <td>https://pbs.twimg.com/amplify_video_thumb/1426...</td>\n",
       "      <td>[]</td>\n",
       "      <td>1</td>\n",
       "    </tr>\n",
       "  </tbody>\n",
       "</table>\n",
       "</div>"
      ],
      "text/plain": [
       "                        id      conversation_id       date            time  \\\n",
       "15056  1426273105597640705  1426273105597640705 2021-08-13 0 days 17:03:01   \n",
       "\n",
       "                  user_id         username  \\\n",
       "15056  973302847654760448  porquetendencia   \n",
       "\n",
       "                                                   tweet mentions urls photos  \\\n",
       "15056  \"Barassi\": Por su cruce con un participante de...       []   []     []   \n",
       "\n",
       "       replies_count  retweets_count  likes_count              hashtags  \\\n",
       "15056           1369            7916       113637  [100argentinosdicen]   \n",
       "\n",
       "                                                    link quote_url  video  \\\n",
       "15056  https://twitter.com/porquetendencia/status/142...       NaN      1   \n",
       "\n",
       "                                               thumbnail reply_to  \\\n",
       "15056  https://pbs.twimg.com/amplify_video_thumb/1426...       []   \n",
       "\n",
       "       len_hashtags  \n",
       "15056             1  "
      ]
     },
     "execution_count": 55,
     "metadata": {},
     "output_type": "execute_result"
    }
   ],
   "source": [
    "df_menciones_act[df_menciones_act[\"likes_count\"] == df_menciones_act[\"likes_count\"].max()]"
   ]
  },
  {
   "cell_type": "code",
   "execution_count": null,
   "id": "a83f4ba5",
   "metadata": {},
   "outputs": [],
   "source": []
  }
 ],
 "metadata": {
  "kernelspec": {
   "display_name": "Python 3",
   "language": "python",
   "name": "python3"
  },
  "language_info": {
   "codemirror_mode": {
    "name": "ipython",
    "version": 3
   },
   "file_extension": ".py",
   "mimetype": "text/x-python",
   "name": "python",
   "nbconvert_exporter": "python",
   "pygments_lexer": "ipython3",
   "version": "3.8.8"
  }
 },
 "nbformat": 4,
 "nbformat_minor": 5
}

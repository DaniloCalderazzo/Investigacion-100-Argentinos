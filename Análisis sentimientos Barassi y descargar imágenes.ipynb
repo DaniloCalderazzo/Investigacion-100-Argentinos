{
 "cells": [
  {
   "cell_type": "markdown",
   "id": "c5d217ae",
   "metadata": {},
   "source": [
    "# Análisis menciones Barassi y Programa"
   ]
  },
  {
   "cell_type": "markdown",
   "id": "e36dd71b",
   "metadata": {},
   "source": [
    "La idea de este conjunto de funciones es explorar un poco más los tweets que hablan sobre Dario Barassi y su programa 100ArgentinosDicen. <br>\n",
    "Vamos a hacer un analisis de sentimientos de los tweets<br>\n",
    "Descargar las imagenes con más likes de cada conjunto de datos<br>\n",
    "Hacer algunas gráficas<br>\n",
    "y un par de wordclouds con las palabras más usadas\n"
   ]
  },
  {
   "cell_type": "markdown",
   "id": "944b77a0",
   "metadata": {},
   "source": [
    "vamos a trabajar con dos sets de datos, uno para los tweets que mencionen a Dario Barassi y otro que mencionen al programa 100ArgentinosDicen"
   ]
  },
  {
   "cell_type": "markdown",
   "id": "a9b2d2b4",
   "metadata": {},
   "source": [
    "###### los datasets se extrajeron con las siguientes lineas en el entorno de consola de twint"
   ]
  },
  {
   "cell_type": "markdown",
   "id": "2f7ada42",
   "metadata": {},
   "source": [
    "*Aclaración: debido a que eran datasets bastante grandes por temas de continuidad de descarga tuve que dividirlos en dos archivos cada uno, esto no influye ya que los vamos a levantar y concatenar  "
   ]
  },
  {
   "cell_type": "code",
   "execution_count": null,
   "id": "d75f37bb",
   "metadata": {},
   "outputs": [],
   "source": [
    "#ejecutar en la consola\n",
    "twint -s \"100 argentinos dicen\" -ho -o prueba100arg.csv --csv --count "
   ]
  },
  {
   "cell_type": "code",
   "execution_count": null,
   "id": "2e34c9f1",
   "metadata": {},
   "outputs": [],
   "source": [
    "#ejecutar en la consola\n",
    "twint -s \"Barassi -100 -argentinos -dicen\" -ho -o mencionesBarassi.csv --csv --count "
   ]
  },
  {
   "cell_type": "markdown",
   "id": "2eb34217",
   "metadata": {},
   "source": [
    "### ahora si se viene el código"
   ]
  },
  {
   "cell_type": "code",
   "execution_count": 1,
   "id": "15fa556c",
   "metadata": {},
   "outputs": [],
   "source": [
    "#primeras librerias\n",
    "from datetime import date, datetime\n",
    "import numpy as np \n",
    "import pandas as pd\n",
    "import matplotlib.pyplot as plt\n"
   ]
  },
  {
   "cell_type": "code",
   "execution_count": 2,
   "id": "accbd03c",
   "metadata": {},
   "outputs": [],
   "source": [
    "#leer archivos, como comente terminaron siendo 4 archivos por que no realice toda la descarga de continuo\n",
    "df_m_pro_1 = pd.read_csv(\"prueba100arg.csv\", delimiter='\\t', dtype={'name': object},low_memory=False)\n",
    "df_m_pro_2 = pd.read_csv(\"prueba100arg2.csv\", delimiter='\\t', dtype={'name': object},low_memory=False)\n",
    "df_m_bar_1 = pd.read_csv(\"mencionesBarassi.csv\", delimiter='\\t', dtype={'name': object},low_memory=False)\n",
    "df_m_bar_2 = pd.read_csv(\"mencionesBarassi2.csv\", delimiter='\\t', dtype={'name': object},low_memory=False)"
   ]
  },
  {
   "cell_type": "code",
   "execution_count": 3,
   "id": "920f6943",
   "metadata": {},
   "outputs": [],
   "source": [
    "#borrar columnas poco utiles (o vacias)\n",
    "df_m_pro_1 = df_m_pro_1.drop(columns=[\"created_at\",\"timezone\",\"name\",\"place\",\"language\",\"cashtags\",\"retweet\",\"near\",\"geo\",\"source\",\"user_rt_id\",\"retweet_id\",\"user_rt\",\"retweet_date\",\"translate\",\"trans_src\",\"trans_dest\"])\n",
    "df_m_pro_2 = df_m_pro_2.drop(columns=[\"created_at\",\"timezone\",\"name\",\"place\",\"language\",\"cashtags\",\"retweet\",\"near\",\"geo\",\"source\",\"user_rt_id\",\"retweet_id\",\"user_rt\",\"retweet_date\",\"translate\",\"trans_src\",\"trans_dest\"])\n",
    "df_m_bar_1= df_m_bar_1.drop(columns=[\"created_at\",\"timezone\",\"name\",\"place\",\"language\",\"cashtags\",\"retweet\",\"near\",\"geo\",\"source\",\"user_rt_id\",\"retweet_id\",\"user_rt\",\"retweet_date\",\"translate\",\"trans_src\",\"trans_dest\"])\n",
    "df_m_bar_2=df_m_bar_2.drop(columns=[\"created_at\",\"timezone\",\"name\",\"place\",\"language\",\"cashtags\",\"retweet\",\"near\",\"geo\",\"source\",\"user_rt_id\",\"retweet_id\",\"user_rt\",\"retweet_date\",\"translate\",\"trans_src\",\"trans_dest\"])"
   ]
  },
  {
   "cell_type": "code",
   "execution_count": 4,
   "id": "c7d28cc5",
   "metadata": {},
   "outputs": [],
   "source": [
    "#funciones para modificar los formatos de tiempo y fecha\n",
    "def formato_tiempo(tiempo):\n",
    "    tiempo_out= pd.to_timedelta(tiempo)\n",
    "    return tiempo_out\n",
    "\n",
    "def formato_fecha(fecha):\n",
    "    fecha_out= pd.to_datetime(fecha, infer_datetime_format=True)\n",
    "    return fecha_out"
   ]
  },
  {
   "cell_type": "code",
   "execution_count": 5,
   "id": "56848b0b",
   "metadata": {},
   "outputs": [],
   "source": [
    "#modificar formato fechas\n",
    "df_m_pro_1[\"date\"] = df_m_pro_1[\"date\"].apply(formato_fecha)\n",
    "df_m_pro_2[\"date\"] = df_m_pro_2[\"date\"].apply(formato_fecha)\n",
    "df_m_bar_1[\"date\"] = df_m_bar_1[\"date\"].apply(formato_fecha)\n",
    "df_m_bar_2[\"date\"] = df_m_bar_2[\"date\"].apply(formato_fecha)\n",
    "\n"
   ]
  },
  {
   "cell_type": "code",
   "execution_count": 6,
   "id": "40d7a26a",
   "metadata": {},
   "outputs": [],
   "source": [
    "#modificar formato tiempo\n",
    "df_m_pro_1[\"time\"] = df_m_pro_1[\"time\"].apply(formato_fecha)\n",
    "df_m_pro_2[\"time\"] = df_m_pro_2[\"time\"].apply(formato_fecha)\n",
    "df_m_bar_1[\"time\"] = df_m_bar_1[\"time\"].apply(formato_fecha)\n",
    "df_m_bar_2[\"time\"] = df_m_bar_2[\"time\"].apply(formato_fecha)\n",
    "\n"
   ]
  },
  {
   "cell_type": "code",
   "execution_count": 7,
   "id": "b9d53837",
   "metadata": {},
   "outputs": [],
   "source": [
    "#juntar los dataframes\n",
    "df_menciones_pro=pd.concat([df_m_pro_1,df_m_pro_2])\n",
    "df_menciones_bar=pd.concat([df_m_bar_1,df_m_bar_2])"
   ]
  },
  {
   "cell_type": "code",
   "execution_count": null,
   "id": "48ac966e",
   "metadata": {},
   "outputs": [],
   "source": [
    "#ver cantidad de rows de cada df\n",
    "print(df_menciones_pro[\"id\"].size)\n",
    "print(df_menciones_bar[\"id\"].size)"
   ]
  },
  {
   "cell_type": "markdown",
   "id": "a8c0764d",
   "metadata": {},
   "source": [
    "## analisis de sentimientos"
   ]
  },
  {
   "cell_type": "code",
   "execution_count": 8,
   "id": "e7c997d5",
   "metadata": {},
   "outputs": [],
   "source": [
    "#librerias para analisis de sentimientos\n",
    "import nltk\n",
    "from nltk.probability import FreqDist\n",
    "from nltk.tokenize import word_tokenize\n",
    "from nltk.corpus import stopwords\n",
    "\n",
    "%matplotlib inline\n",
    "from nltk.classify import NaiveBayesClassifier"
   ]
  },
  {
   "cell_type": "code",
   "execution_count": 21,
   "id": "7693c47f",
   "metadata": {},
   "outputs": [],
   "source": [
    "#librerias para limpieza de texto\n",
    "import string\n",
    "import emoji\n",
    "import re"
   ]
  },
  {
   "cell_type": "code",
   "execution_count": 16,
   "id": "6df44e15",
   "metadata": {},
   "outputs": [],
   "source": [
    "#variables para quitar las palabras que no aportan \n",
    "\n",
    "stopwordList = stopwords.words(\"Spanish\")\n",
    "stopwordList = stopwordList + stopwords.words(\"English\")\n",
    "punctuationList = [string.punctuation]\n",
    "stopwordsListfull = stopwordList + punctuationList + ['“','”','¡','¿',\"''\",'``','...','→','⬥','…']\n"
   ]
  },
  {
   "cell_type": "code",
   "execution_count": 17,
   "id": "5541c3bc",
   "metadata": {},
   "outputs": [],
   "source": [
    "#borra los emojis de los textos\n",
    "def clean_tweets_emoji(Texto):\n",
    "    allchars = [str for str in Texto]\n",
    "    emoji_lista = [c for c in allchars if c in emoji.UNICODE_EMOJI]\n",
    "    emojiless = ' '.join([str for str in Texto.split() if not any(i in str for i in emoji_lista)])\n",
    "    return emojiless\n",
    "\n",
    "#se la aplica a la columna texto y la sobrescribe\n",
    "#df"
   ]
  },
  {
   "cell_type": "code",
   "execution_count": 18,
   "id": "868c6f7e",
   "metadata": {},
   "outputs": [],
   "source": [
    "#funcion para limpiar los textos de los tweet\n",
    "def clean_text(Texto):\n",
    "    \n",
    "    #re.sub(\"cadena a buscar\", \"con la que se reemplaza\", cadena_leida)\n",
    "    #variables del preprocesamiento\n",
    "   \n",
    "    caracteres_especiales = r'\\W'\n",
    "    caracter_individual = r'\\s+[a-zA-Z]\\s+'\n",
    "    caracter_individual_inicio = r'\\^[a-zA-Z]\\s+'\n",
    "    varios_espacios = r'\\s+'\n",
    "    prefijo_b = r'^b\\s+'\n",
    "    numeros = '[0-9]+'\n",
    "    \n",
    "    \n",
    "    #limpieza\n",
    "    Texto = re.sub(r'RT[\\s]+', ' ', Texto)  #rts\n",
    "    Texto = Texto.lower() \n",
    "    Texto = re.sub(r'@[a-zA-Z0-9-_.]+', '', Texto) #menciones\n",
    "    Texto = re.sub(r'#[a-zA-Z0-9-_.]+', ' ', Texto) #hastags\n",
    "    Texto = re.sub('\\n|\\r', '', Texto) #saltos de linea\n",
    "    #urls\n",
    "    Texto = re.sub(r'//[a-zA-Z0-9-_.]+', '', Texto)\n",
    "    Texto = re.sub(r'https://[a-zA-Z0-9-_./]+', '', Texto)\n",
    "    Texto = re.sub(r'https:[a-zA-Z0-9-_./]+', '', Texto)\n",
    "    Texto = re.sub(r'www.[a-zA-Z0-9-_./]+', '', Texto)\n",
    "    #acentos\n",
    "    Texto = re.sub(r'[á|ä|â|à]', 'a', Texto)\n",
    "    Texto = re.sub(r'[é|ê|è]', 'e', Texto)\n",
    "    Texto = re.sub(r'[í|î|ì]', 'i', Texto)\n",
    "    Texto = re.sub(r'[ó|ô|ò]', 'o', Texto)\n",
    "    Texto = re.sub(r'[ú|û|ù|ü]', 'u', Texto)\n",
    "    Texto = re.sub(caracteres_especiales, ' ', Texto)\n",
    "    Texto = re.sub(caracter_individual, ' ', Texto)\n",
    "    Texto = re.sub(caracter_individual_inicio, ' ', Texto) \n",
    "    Texto = re.sub(prefijo_b, '', Texto)\n",
    "    Texto = re.sub(numeros, ' ', Texto)\n",
    "    \n",
    "    #tweet_procesado = re.sub(\" q \", ' que ', tweet_procesado)\n",
    "    #tweet_procesado = re.sub(\" sr \", ' señor ', tweet_procesado)\n",
    "    #tweet_procesado = re.sub(\" x \", ' por ', tweet_procesado)\n",
    "    #tweet_procesado = re.sub(\" d \", ' de ', tweet_procesado)\n",
    "    #tweet_procesado = re.sub(\" xq \", ' porque ', tweet_procesado)\n",
    "    varios_espacios = r'\\s+'\n",
    "    Texto = re.sub(varios_espacios, ' ', Texto, flags=re.I)\n",
    "    return Texto"
   ]
  },
  {
   "cell_type": "code",
   "execution_count": 19,
   "id": "c2c268ae",
   "metadata": {},
   "outputs": [],
   "source": [
    "#tokeniza cada palabra que conforma un texto y revisa que no este en la lista de palabras inutiles\n",
    "def tex_token(Texto):\n",
    "    Texto_token = [palabra for palabra in word_tokenize(Texto) if palabra not in stopwordsListfull]\n",
    "    return Texto_token"
   ]
  },
  {
   "cell_type": "code",
   "execution_count": 23,
   "id": "7b84c6dd",
   "metadata": {},
   "outputs": [],
   "source": [
    "#tokeniza el texto y lo guarda en un diccionario donde cada palabra es una clave con valor 1 \n",
    "#para luego procesar las palabras del diccionario y modificar sus valores en funcion del analisis de sentimientos\n",
    "def construirBolsaDePalabras(Texto):\n",
    "    diccionario={}\n",
    "    for palabra in word_tokenize(Texto):\n",
    "        if palabra not in stopwordsListfull:\n",
    "            diccionario[palabra]=1\n",
    "    return diccionario"
   ]
  },
  {
   "cell_type": "code",
   "execution_count": 13,
   "id": "a9b37184",
   "metadata": {},
   "outputs": [],
   "source": [
    "#levantar sample para el analisis de datos\n",
    "datos_excel = pd.read_excel(open('taggedTweets.xlsx','rb'))\n",
    "datos_excel = pd.DataFrame(datos_excel)\n",
    "sample = datos_excel.sample(len(datos_excel))\n",
    "#sample"
   ]
  },
  {
   "cell_type": "code",
   "execution_count": 24,
   "id": "53f3d944",
   "metadata": {},
   "outputs": [],
   "source": [
    "#generacion del robot de analisis\n",
    "#variables donde vamos a guardar la cantidad de textos positivos y negativos \n",
    "rasgosNegativos = []\n",
    "rasgosPositivos = []\n",
    "rasgosNeutrales = []\n",
    "# se lee el archivo sample, se limpia el texto y luego se coteja y guarda los sentimientos    \n",
    "for indice_fila, fila in sample.iterrows():\n",
    "    tweet_clean = clean_tweets_emoji(fila['Tweet'])\n",
    "    tweet_clean = clean_text(tweet_clean)\n",
    "    if fila['Sentimiento'] == 'pos':\n",
    "        rasgosPositivos.append((construirBolsaDePalabras(tweet_clean),fila['Sentimiento']))\n",
    "    elif fila['Sentimiento'] == 'neu':\n",
    "        rasgosNeutrales.append((construirBolsaDePalabras(tweet_clean),fila['Sentimiento']))\n",
    "    else:\n",
    "        rasgosNegativos.append((construirBolsaDePalabras(tweet_clean),fila['Sentimiento']))\n",
    "\n",
    "#se instancias la variables de cotejación del clasificador de sentimientos\n",
    "divP=int(len(rasgosPositivos)*0.95)\n",
    "divNeu=int(len(rasgosNeutrales)*0.95)\n",
    "divNeg=int(len(rasgosNegativos)*0.95)\n",
    "#clasificador de sentimientos\n",
    "clasificadorSentimiento=NaiveBayesClassifier.train(rasgosPositivos[:divP]+rasgosNegativos[:divNeg]+rasgosNeutrales[:divNeu])"
   ]
  },
  {
   "cell_type": "code",
   "execution_count": 25,
   "id": "94623e6e",
   "metadata": {},
   "outputs": [],
   "source": [
    "#funcion que aplica el robot a un input\n",
    "def analisis_sent(Texto):\n",
    "    bolsa = construirBolsaDePalabras(Texto)\n",
    "    sent = clasificadorSentimiento.classify(bolsa)\n",
    "    return sent"
   ]
  },
  {
   "cell_type": "code",
   "execution_count": 27,
   "id": "8d7178a8",
   "metadata": {},
   "outputs": [],
   "source": [
    "#limpiar tweets\n",
    "df_menciones_pro[\"tweet_limpio\"]=df_menciones_pro[\"tweet\"].apply(clean_text)\n",
    "df_menciones_bar[\"tweet_limpio\"]=df_menciones_bar[\"tweet\"].apply(clean_text)"
   ]
  },
  {
   "cell_type": "code",
   "execution_count": 28,
   "id": "1d01f772",
   "metadata": {},
   "outputs": [],
   "source": [
    "df_menciones_pro[\"tweet_limpio\"]=df_menciones_pro[\"tweet_limpio\"].apply(clean_tweets_emoji)\n",
    "df_menciones_bar[\"tweet_limpio\"]=df_menciones_bar[\"tweet_limpio\"].apply(clean_tweets_emoji)"
   ]
  },
  {
   "cell_type": "code",
   "execution_count": 29,
   "id": "c6ccbe8c",
   "metadata": {},
   "outputs": [],
   "source": [
    "#aplicar valoracion de analisis de sentimientos\n",
    "df_menciones_pro[\"Sentimientos\"]=df_menciones_pro[\"tweet_limpio\"].apply(analisis_sent)\n",
    "df_menciones_bar[\"Sentimientos\"]=df_menciones_bar[\"tweet_limpio\"].apply(analisis_sent)"
   ]
  },
  {
   "cell_type": "code",
   "execution_count": 30,
   "id": "07dd8ee4",
   "metadata": {},
   "outputs": [
    {
     "data": {
      "text/html": [
       "<div>\n",
       "<style scoped>\n",
       "    .dataframe tbody tr th:only-of-type {\n",
       "        vertical-align: middle;\n",
       "    }\n",
       "\n",
       "    .dataframe tbody tr th {\n",
       "        vertical-align: top;\n",
       "    }\n",
       "\n",
       "    .dataframe thead th {\n",
       "        text-align: right;\n",
       "    }\n",
       "</style>\n",
       "<table border=\"1\" class=\"dataframe\">\n",
       "  <thead>\n",
       "    <tr style=\"text-align: right;\">\n",
       "      <th></th>\n",
       "      <th>id</th>\n",
       "      <th>conversation_id</th>\n",
       "      <th>date</th>\n",
       "      <th>time</th>\n",
       "      <th>user_id</th>\n",
       "      <th>username</th>\n",
       "      <th>tweet</th>\n",
       "      <th>mentions</th>\n",
       "      <th>urls</th>\n",
       "      <th>photos</th>\n",
       "      <th>...</th>\n",
       "      <th>retweets_count</th>\n",
       "      <th>likes_count</th>\n",
       "      <th>hashtags</th>\n",
       "      <th>link</th>\n",
       "      <th>quote_url</th>\n",
       "      <th>video</th>\n",
       "      <th>thumbnail</th>\n",
       "      <th>reply_to</th>\n",
       "      <th>tweet_limpio</th>\n",
       "      <th>Sentimientos</th>\n",
       "    </tr>\n",
       "  </thead>\n",
       "  <tbody>\n",
       "    <tr>\n",
       "      <th>0</th>\n",
       "      <td>1438501698960379913</td>\n",
       "      <td>1438501698960379913</td>\n",
       "      <td>2021-09-16</td>\n",
       "      <td>2021-09-23 10:55:05</td>\n",
       "      <td>3434472605</td>\n",
       "      <td>tvargentina_</td>\n",
       "      <td>Tarde 15/09  Telefe 14h40 Corta Por Lozano 6.6...</td>\n",
       "      <td>[]</td>\n",
       "      <td>[]</td>\n",
       "      <td>['https://pbs.twimg.com/media/E_aVofUUUAIT2Da....</td>\n",
       "      <td>...</td>\n",
       "      <td>0</td>\n",
       "      <td>0</td>\n",
       "      <td>[]</td>\n",
       "      <td>https://twitter.com/tvargentina_/status/143850...</td>\n",
       "      <td>NaN</td>\n",
       "      <td>1</td>\n",
       "      <td>https://pbs.twimg.com/media/E_aVofUUUAIT2Da.jpg</td>\n",
       "      <td>[]</td>\n",
       "      <td>tarde telefe h corta por lozano h dulce ambici...</td>\n",
       "      <td>pos</td>\n",
       "    </tr>\n",
       "    <tr>\n",
       "      <th>1</th>\n",
       "      <td>1438499614932418562</td>\n",
       "      <td>1438499614932418562</td>\n",
       "      <td>2021-09-16</td>\n",
       "      <td>2021-09-23 10:46:48</td>\n",
       "      <td>213383322</td>\n",
       "      <td>sergiorodo</td>\n",
       "      <td>Los 10 + vistos del miércoles! #BakeOffArgenti...</td>\n",
       "      <td>[]</td>\n",
       "      <td>[]</td>\n",
       "      <td>['https://pbs.twimg.com/media/E_aTxoBUcAEX4AP....</td>\n",
       "      <td>...</td>\n",
       "      <td>1</td>\n",
       "      <td>7</td>\n",
       "      <td>['bakeoffargentina', 'drmilagro', 'zuleyha', '...</td>\n",
       "      <td>https://twitter.com/sergiorodo/status/14384996...</td>\n",
       "      <td>NaN</td>\n",
       "      <td>1</td>\n",
       "      <td>https://pbs.twimg.com/media/E_aTxoBUcAEX4AP.jpg</td>\n",
       "      <td>[]</td>\n",
       "      <td>los vistos del miercoles</td>\n",
       "      <td>neg</td>\n",
       "    </tr>\n",
       "    <tr>\n",
       "      <th>2</th>\n",
       "      <td>1438499302565949444</td>\n",
       "      <td>1438499302565949444</td>\n",
       "      <td>2021-09-16</td>\n",
       "      <td>2021-09-23 10:45:34</td>\n",
       "      <td>1374026348419813377</td>\n",
       "      <td>lazaromartinok</td>\n",
       "      <td>PROMEDIOS DE LA TARDE  #Zuleyha 9,7 #100Argent...</td>\n",
       "      <td>[]</td>\n",
       "      <td>[]</td>\n",
       "      <td>['https://pbs.twimg.com/media/E_aTe6sVcAQ_JMq....</td>\n",
       "      <td>...</td>\n",
       "      <td>0</td>\n",
       "      <td>2</td>\n",
       "      <td>['zuleyha', '100argentinosdicen', 'hercai', 'p...</td>\n",
       "      <td>https://twitter.com/LazaroMartinOK/status/1438...</td>\n",
       "      <td>NaN</td>\n",
       "      <td>1</td>\n",
       "      <td>https://pbs.twimg.com/media/E_aTe6sVcAQ_JMq.jpg</td>\n",
       "      <td>[]</td>\n",
       "      <td>promedios de la tarde</td>\n",
       "      <td>neu</td>\n",
       "    </tr>\n",
       "    <tr>\n",
       "      <th>3</th>\n",
       "      <td>1438496587269955587</td>\n",
       "      <td>1438496587269955587</td>\n",
       "      <td>2021-09-16</td>\n",
       "      <td>2021-09-23 10:34:47</td>\n",
       "      <td>861509898</td>\n",
       "      <td>polimartinezzz</td>\n",
       "      <td>habría que estirar zuleyha hasta las 19hs para...</td>\n",
       "      <td>[]</td>\n",
       "      <td>[]</td>\n",
       "      <td>['https://pbs.twimg.com/media/E_aRACYUYAk8lWV....</td>\n",
       "      <td>...</td>\n",
       "      <td>0</td>\n",
       "      <td>1</td>\n",
       "      <td>[]</td>\n",
       "      <td>https://twitter.com/PoliMartinezzz/status/1438...</td>\n",
       "      <td>NaN</td>\n",
       "      <td>1</td>\n",
       "      <td>https://pbs.twimg.com/media/E_aRACYUYAk8lWV.jpg</td>\n",
       "      <td>[]</td>\n",
       "      <td>habria que estirar zuleyha hasta las hs para a...</td>\n",
       "      <td>pos</td>\n",
       "    </tr>\n",
       "    <tr>\n",
       "      <th>4</th>\n",
       "      <td>1438495951740604418</td>\n",
       "      <td>1438495951740604418</td>\n",
       "      <td>2021-09-16</td>\n",
       "      <td>2021-09-23 10:32:15</td>\n",
       "      <td>3434472605</td>\n",
       "      <td>tvargentina_</td>\n",
       "      <td>Líder: O 100 Argentinos Dicen marcou 8.9 de mé...</td>\n",
       "      <td>[]</td>\n",
       "      <td>[]</td>\n",
       "      <td>['https://pbs.twimg.com/media/E_aQGD4XoAIAR-p....</td>\n",
       "      <td>...</td>\n",
       "      <td>0</td>\n",
       "      <td>1</td>\n",
       "      <td>[]</td>\n",
       "      <td>https://twitter.com/tvargentina_/status/143849...</td>\n",
       "      <td>NaN</td>\n",
       "      <td>1</td>\n",
       "      <td>https://pbs.twimg.com/media/E_aQGD4XoAIAR-p.jpg</td>\n",
       "      <td>[]</td>\n",
       "      <td>lider argentinos dicen marcou de media nessa q...</td>\n",
       "      <td>neg</td>\n",
       "    </tr>\n",
       "    <tr>\n",
       "      <th>...</th>\n",
       "      <td>...</td>\n",
       "      <td>...</td>\n",
       "      <td>...</td>\n",
       "      <td>...</td>\n",
       "      <td>...</td>\n",
       "      <td>...</td>\n",
       "      <td>...</td>\n",
       "      <td>...</td>\n",
       "      <td>...</td>\n",
       "      <td>...</td>\n",
       "      <td>...</td>\n",
       "      <td>...</td>\n",
       "      <td>...</td>\n",
       "      <td>...</td>\n",
       "      <td>...</td>\n",
       "      <td>...</td>\n",
       "      <td>...</td>\n",
       "      <td>...</td>\n",
       "      <td>...</td>\n",
       "      <td>...</td>\n",
       "      <td>...</td>\n",
       "    </tr>\n",
       "    <tr>\n",
       "      <th>45263</th>\n",
       "      <td>9261162187</td>\n",
       "      <td>9261162187</td>\n",
       "      <td>2010-02-17</td>\n",
       "      <td>2021-09-23 22:21:22</td>\n",
       "      <td>20513931</td>\n",
       "      <td>silviasantillan</td>\n",
       "      <td>Hola monchi!! que vuelva 100 argentinos dicen....</td>\n",
       "      <td>[{'screen_name': 'monchibalestra', 'name': 'mo...</td>\n",
       "      <td>[]</td>\n",
       "      <td>[]</td>\n",
       "      <td>...</td>\n",
       "      <td>0</td>\n",
       "      <td>0</td>\n",
       "      <td>[]</td>\n",
       "      <td>https://twitter.com/SilviaSantillan/status/926...</td>\n",
       "      <td>NaN</td>\n",
       "      <td>0</td>\n",
       "      <td>NaN</td>\n",
       "      <td>[]</td>\n",
       "      <td>hola monchi que vuelva argentinos dicen</td>\n",
       "      <td>neu</td>\n",
       "    </tr>\n",
       "    <tr>\n",
       "      <th>45264</th>\n",
       "      <td>5459824923</td>\n",
       "      <td>5459669719</td>\n",
       "      <td>2009-11-05</td>\n",
       "      <td>2021-09-23 18:04:48</td>\n",
       "      <td>52816616</td>\n",
       "      <td>elenapaoloni</td>\n",
       "      <td>@capitanintriga de verdad? para mi Monchi es g...</td>\n",
       "      <td>[]</td>\n",
       "      <td>[]</td>\n",
       "      <td>[]</td>\n",
       "      <td>...</td>\n",
       "      <td>0</td>\n",
       "      <td>0</td>\n",
       "      <td>[]</td>\n",
       "      <td>https://twitter.com/elenapaoloni/status/545982...</td>\n",
       "      <td>NaN</td>\n",
       "      <td>0</td>\n",
       "      <td>NaN</td>\n",
       "      <td>[]</td>\n",
       "      <td>de verdad para mi monchi es grandioso lo sigo ...</td>\n",
       "      <td>neg</td>\n",
       "    </tr>\n",
       "    <tr>\n",
       "      <th>45265</th>\n",
       "      <td>3773247690</td>\n",
       "      <td>3773247690</td>\n",
       "      <td>2009-09-05</td>\n",
       "      <td>2021-09-23 01:25:45</td>\n",
       "      <td>41342787</td>\n",
       "      <td>zabielita</td>\n",
       "      <td>El arte de mandar fruta. -- 100 Argentinos dic...</td>\n",
       "      <td>[]</td>\n",
       "      <td>[]</td>\n",
       "      <td>[]</td>\n",
       "      <td>...</td>\n",
       "      <td>0</td>\n",
       "      <td>0</td>\n",
       "      <td>[]</td>\n",
       "      <td>https://twitter.com/Zabielita/status/3773247690</td>\n",
       "      <td>NaN</td>\n",
       "      <td>0</td>\n",
       "      <td>NaN</td>\n",
       "      <td>[]</td>\n",
       "      <td>el arte de mandar fruta argentinos dicen manda...</td>\n",
       "      <td>pos</td>\n",
       "    </tr>\n",
       "    <tr>\n",
       "      <th>45266</th>\n",
       "      <td>3773209108</td>\n",
       "      <td>3773209108</td>\n",
       "      <td>2009-09-05</td>\n",
       "      <td>2021-09-23 01:23:17</td>\n",
       "      <td>41342787</td>\n",
       "      <td>zabielita</td>\n",
       "      <td>El placer del intelecto jaaa. -- 100 Argentino...</td>\n",
       "      <td>[]</td>\n",
       "      <td>[]</td>\n",
       "      <td>[]</td>\n",
       "      <td>...</td>\n",
       "      <td>0</td>\n",
       "      <td>0</td>\n",
       "      <td>[]</td>\n",
       "      <td>https://twitter.com/Zabielita/status/3773209108</td>\n",
       "      <td>NaN</td>\n",
       "      <td>0</td>\n",
       "      <td>NaN</td>\n",
       "      <td>[]</td>\n",
       "      <td>el placer del intelecto jaaa argentinos dicen ...</td>\n",
       "      <td>neg</td>\n",
       "    </tr>\n",
       "    <tr>\n",
       "      <th>45267</th>\n",
       "      <td>777637911</td>\n",
       "      <td>777637911</td>\n",
       "      <td>2008-03-26</td>\n",
       "      <td>2021-09-23 19:20:47</td>\n",
       "      <td>11386012</td>\n",
       "      <td>taringapost</td>\n",
       "      <td>100 argentinos (¿ignorantes?) dicen (0 puntos)...</td>\n",
       "      <td>[]</td>\n",
       "      <td>[]</td>\n",
       "      <td>[]</td>\n",
       "      <td>...</td>\n",
       "      <td>0</td>\n",
       "      <td>0</td>\n",
       "      <td>[]</td>\n",
       "      <td>https://twitter.com/taringapost/status/777637911</td>\n",
       "      <td>NaN</td>\n",
       "      <td>0</td>\n",
       "      <td>NaN</td>\n",
       "      <td>[]</td>\n",
       "      <td>argentinos ignorantes dicen puntos argentinos ...</td>\n",
       "      <td>neg</td>\n",
       "    </tr>\n",
       "  </tbody>\n",
       "</table>\n",
       "<p>84532 rows × 21 columns</p>\n",
       "</div>"
      ],
      "text/plain": [
       "                        id      conversation_id       date  \\\n",
       "0      1438501698960379913  1438501698960379913 2021-09-16   \n",
       "1      1438499614932418562  1438499614932418562 2021-09-16   \n",
       "2      1438499302565949444  1438499302565949444 2021-09-16   \n",
       "3      1438496587269955587  1438496587269955587 2021-09-16   \n",
       "4      1438495951740604418  1438495951740604418 2021-09-16   \n",
       "...                    ...                  ...        ...   \n",
       "45263           9261162187           9261162187 2010-02-17   \n",
       "45264           5459824923           5459669719 2009-11-05   \n",
       "45265           3773247690           3773247690 2009-09-05   \n",
       "45266           3773209108           3773209108 2009-09-05   \n",
       "45267            777637911            777637911 2008-03-26   \n",
       "\n",
       "                     time              user_id         username  \\\n",
       "0     2021-09-23 10:55:05           3434472605     tvargentina_   \n",
       "1     2021-09-23 10:46:48            213383322       sergiorodo   \n",
       "2     2021-09-23 10:45:34  1374026348419813377   lazaromartinok   \n",
       "3     2021-09-23 10:34:47            861509898   polimartinezzz   \n",
       "4     2021-09-23 10:32:15           3434472605     tvargentina_   \n",
       "...                   ...                  ...              ...   \n",
       "45263 2021-09-23 22:21:22             20513931  silviasantillan   \n",
       "45264 2021-09-23 18:04:48             52816616     elenapaoloni   \n",
       "45265 2021-09-23 01:25:45             41342787        zabielita   \n",
       "45266 2021-09-23 01:23:17             41342787        zabielita   \n",
       "45267 2021-09-23 19:20:47             11386012      taringapost   \n",
       "\n",
       "                                                   tweet  \\\n",
       "0      Tarde 15/09  Telefe 14h40 Corta Por Lozano 6.6...   \n",
       "1      Los 10 + vistos del miércoles! #BakeOffArgenti...   \n",
       "2      PROMEDIOS DE LA TARDE  #Zuleyha 9,7 #100Argent...   \n",
       "3      habría que estirar zuleyha hasta las 19hs para...   \n",
       "4      Líder: O 100 Argentinos Dicen marcou 8.9 de mé...   \n",
       "...                                                  ...   \n",
       "45263  Hola monchi!! que vuelva 100 argentinos dicen....   \n",
       "45264  @capitanintriga de verdad? para mi Monchi es g...   \n",
       "45265  El arte de mandar fruta. -- 100 Argentinos dic...   \n",
       "45266  El placer del intelecto jaaa. -- 100 Argentino...   \n",
       "45267  100 argentinos (¿ignorantes?) dicen (0 puntos)...   \n",
       "\n",
       "                                                mentions urls  \\\n",
       "0                                                     []   []   \n",
       "1                                                     []   []   \n",
       "2                                                     []   []   \n",
       "3                                                     []   []   \n",
       "4                                                     []   []   \n",
       "...                                                  ...  ...   \n",
       "45263  [{'screen_name': 'monchibalestra', 'name': 'mo...   []   \n",
       "45264                                                 []   []   \n",
       "45265                                                 []   []   \n",
       "45266                                                 []   []   \n",
       "45267                                                 []   []   \n",
       "\n",
       "                                                  photos  ...  retweets_count  \\\n",
       "0      ['https://pbs.twimg.com/media/E_aVofUUUAIT2Da....  ...               0   \n",
       "1      ['https://pbs.twimg.com/media/E_aTxoBUcAEX4AP....  ...               1   \n",
       "2      ['https://pbs.twimg.com/media/E_aTe6sVcAQ_JMq....  ...               0   \n",
       "3      ['https://pbs.twimg.com/media/E_aRACYUYAk8lWV....  ...               0   \n",
       "4      ['https://pbs.twimg.com/media/E_aQGD4XoAIAR-p....  ...               0   \n",
       "...                                                  ...  ...             ...   \n",
       "45263                                                 []  ...               0   \n",
       "45264                                                 []  ...               0   \n",
       "45265                                                 []  ...               0   \n",
       "45266                                                 []  ...               0   \n",
       "45267                                                 []  ...               0   \n",
       "\n",
       "       likes_count                                           hashtags  \\\n",
       "0                0                                                 []   \n",
       "1                7  ['bakeoffargentina', 'drmilagro', 'zuleyha', '...   \n",
       "2                2  ['zuleyha', '100argentinosdicen', 'hercai', 'p...   \n",
       "3                1                                                 []   \n",
       "4                1                                                 []   \n",
       "...            ...                                                ...   \n",
       "45263            0                                                 []   \n",
       "45264            0                                                 []   \n",
       "45265            0                                                 []   \n",
       "45266            0                                                 []   \n",
       "45267            0                                                 []   \n",
       "\n",
       "                                                    link quote_url video  \\\n",
       "0      https://twitter.com/tvargentina_/status/143850...       NaN     1   \n",
       "1      https://twitter.com/sergiorodo/status/14384996...       NaN     1   \n",
       "2      https://twitter.com/LazaroMartinOK/status/1438...       NaN     1   \n",
       "3      https://twitter.com/PoliMartinezzz/status/1438...       NaN     1   \n",
       "4      https://twitter.com/tvargentina_/status/143849...       NaN     1   \n",
       "...                                                  ...       ...   ...   \n",
       "45263  https://twitter.com/SilviaSantillan/status/926...       NaN     0   \n",
       "45264  https://twitter.com/elenapaoloni/status/545982...       NaN     0   \n",
       "45265    https://twitter.com/Zabielita/status/3773247690       NaN     0   \n",
       "45266    https://twitter.com/Zabielita/status/3773209108       NaN     0   \n",
       "45267   https://twitter.com/taringapost/status/777637911       NaN     0   \n",
       "\n",
       "                                             thumbnail reply_to  \\\n",
       "0      https://pbs.twimg.com/media/E_aVofUUUAIT2Da.jpg       []   \n",
       "1      https://pbs.twimg.com/media/E_aTxoBUcAEX4AP.jpg       []   \n",
       "2      https://pbs.twimg.com/media/E_aTe6sVcAQ_JMq.jpg       []   \n",
       "3      https://pbs.twimg.com/media/E_aRACYUYAk8lWV.jpg       []   \n",
       "4      https://pbs.twimg.com/media/E_aQGD4XoAIAR-p.jpg       []   \n",
       "...                                                ...      ...   \n",
       "45263                                              NaN       []   \n",
       "45264                                              NaN       []   \n",
       "45265                                              NaN       []   \n",
       "45266                                              NaN       []   \n",
       "45267                                              NaN       []   \n",
       "\n",
       "                                            tweet_limpio Sentimientos  \n",
       "0      tarde telefe h corta por lozano h dulce ambici...          pos  \n",
       "1                               los vistos del miercoles          neg  \n",
       "2                                  promedios de la tarde          neu  \n",
       "3      habria que estirar zuleyha hasta las hs para a...          pos  \n",
       "4      lider argentinos dicen marcou de media nessa q...          neg  \n",
       "...                                                  ...          ...  \n",
       "45263            hola monchi que vuelva argentinos dicen          neu  \n",
       "45264  de verdad para mi monchi es grandioso lo sigo ...          neg  \n",
       "45265  el arte de mandar fruta argentinos dicen manda...          pos  \n",
       "45266  el placer del intelecto jaaa argentinos dicen ...          neg  \n",
       "45267  argentinos ignorantes dicen puntos argentinos ...          neg  \n",
       "\n",
       "[84532 rows x 21 columns]"
      ]
     },
     "execution_count": 30,
     "metadata": {},
     "output_type": "execute_result"
    }
   ],
   "source": [
    "#para ver como quedan los df\n",
    "df_menciones_pro"
   ]
  },
  {
   "cell_type": "markdown",
   "id": "c2cef296",
   "metadata": {},
   "source": [
    "## graficas de sentimientos"
   ]
  },
  {
   "cell_type": "code",
   "execution_count": 31,
   "id": "4ea2fa5a",
   "metadata": {},
   "outputs": [
    {
     "data": {
      "text/plain": [
       "<AxesSubplot:xlabel='Sentimientos', ylabel='Cantidad de tweets'>"
      ]
     },
     "execution_count": 31,
     "metadata": {},
     "output_type": "execute_result"
    },
    {
     "data": {
      "image/png": "[encoded data removed]",
      "text/plain": [
       "<Figure size 288x288 with 1 Axes>"
      ]
     },
     "metadata": {
      "needs_background": "light"
     },
     "output_type": "display_data"
    }
   ],
   "source": [
    "#grafica total de menciones del programa\n",
    "df_menciones_pro[\"Sentimientos\"].value_counts().plot.bar(figsize=(4, 4),xlabel=\"Sentimientos\", ylabel=\"Cantidad de tweets\", label=\"Sentimientos en tweets\", legend=False)"
   ]
  },
  {
   "cell_type": "code",
   "execution_count": 32,
   "id": "46ffcc37",
   "metadata": {},
   "outputs": [
    {
     "data": {
      "text/plain": [
       "<AxesSubplot:xlabel='Sentimientos', ylabel='Cantidad de tweets'>"
      ]
     },
     "execution_count": 32,
     "metadata": {},
     "output_type": "execute_result"
    },
    {
     "data": {
      "image/png": "[encoded data removed]",
      "text/plain": [
       "<Figure size 288x288 with 1 Axes>"
      ]
     },
     "metadata": {
      "needs_background": "light"
     },
     "output_type": "display_data"
    }
   ],
   "source": [
    "#grafica total de menciones de Barassi\n",
    "df_menciones_bar[\"Sentimientos\"].value_counts().plot.bar(figsize=(4, 4),xlabel=\"Sentimientos\", ylabel=\"Cantidad de tweets\", label=\"Sentimientos en tweets\", legend=False)"
   ]
  },
  {
   "cell_type": "markdown",
   "id": "78a69e51",
   "metadata": {},
   "source": [
    "### definir DFs imagenes"
   ]
  },
  {
   "cell_type": "code",
   "execution_count": 80,
   "id": "3596f1fa",
   "metadata": {},
   "outputs": [],
   "source": [
    "#vamos a definir df espeificos que solo contengan imagenes\n",
    "df_menciones_bar_media=df_menciones_pro[(df_menciones_pro[\"photos\"].str.startswith(\"[]\") == False)]\n",
    "df_menciones_pro_media=df_menciones_bar[(df_menciones_bar[\"photos\"].str.startswith(\"[]\") == False)]"
   ]
  },
  {
   "cell_type": "markdown",
   "id": "ea3fbe15",
   "metadata": {},
   "source": [
    "######  graficas sentimientos imagenes"
   ]
  },
  {
   "cell_type": "code",
   "execution_count": 34,
   "id": "7efc8561",
   "metadata": {},
   "outputs": [
    {
     "data": {
      "text/plain": [
       "<AxesSubplot:xlabel='Sentimientos', ylabel='Cantidad de tweets'>"
      ]
     },
     "execution_count": 34,
     "metadata": {},
     "output_type": "execute_result"
    },
    {
     "data": {
      "image/png": "[encoded data removed]",
      "text/plain": [
       "<Figure size 288x288 with 1 Axes>"
      ]
     },
     "metadata": {
      "needs_background": "light"
     },
     "output_type": "display_data"
    }
   ],
   "source": [
    "#\n",
    "df_menciones_bar_media[\"Sentimientos\"].value_counts().plot.bar(figsize=(4, 4),xlabel=\"Sentimientos\", ylabel=\"Cantidad de tweets\", label=\"Sentimientos en tweets\", legend=False)"
   ]
  },
  {
   "cell_type": "code",
   "execution_count": 35,
   "id": "33aefc49",
   "metadata": {},
   "outputs": [
    {
     "data": {
      "text/plain": [
       "<AxesSubplot:xlabel='Sentimientos', ylabel='Cantidad de tweets'>"
      ]
     },
     "execution_count": 35,
     "metadata": {},
     "output_type": "execute_result"
    },
    {
     "data": {
      "image/png": "[encoded data removed]",
      "text/plain": [
       "<Figure size 288x288 with 1 Axes>"
      ]
     },
     "metadata": {
      "needs_background": "light"
     },
     "output_type": "display_data"
    }
   ],
   "source": [
    "df_menciones_pro_media[\"Sentimientos\"].value_counts().plot.bar(figsize=(4, 4),xlabel=\"Sentimientos\", ylabel=\"Cantidad de tweets\", label=\"Sentimientos en tweets\", legend=False)"
   ]
  },
  {
   "cell_type": "markdown",
   "id": "d7ad55a3",
   "metadata": {},
   "source": [
    "###  graficas imagenes"
   ]
  },
  {
   "cell_type": "code",
   "execution_count": 38,
   "id": "a26eeb2d",
   "metadata": {},
   "outputs": [
    {
     "data": {
      "text/plain": [
       "([<matplotlib.patches.Wedge at 0x1facf503370>,\n",
       "  <matplotlib.patches.Wedge at 0x1facf503880>],\n",
       " [Text(1.0500839371584993, 0.766370488028933, 'Tweets con imagenes :)'),\n",
       "  Text(-0.8885325318540902, -0.6484673776196921, 'Tweets sin imagenes :(')])"
      ]
     },
     "execution_count": 38,
     "metadata": {},
     "output_type": "execute_result"
    },
    {
     "data": {
      "image/png": "[encoded data removed]",
      "text/plain": [
       "<Figure size 432x288 with 1 Axes>"
      ]
     },
     "metadata": {},
     "output_type": "display_data"
    }
   ],
   "source": [
    "#grafica de proporcion de tweets con fotos en menciones del programa\n",
    "conteo_pro= df_menciones_pro[\"id\"].size\n",
    "conteo_pro_media= df_menciones_pro_media[\"id\"].size\n",
    "conteo_pro_no_media=conteo_pro - conteo_pro_media\n",
    "conteo_list_pro=[conteo_pro_media,conteo_pro_no_media]\n",
    "leyendas=[\"Tweets con imagenes :)\", \"Tweets sin imagenes :(\"]\n",
    "explosion = [0.2, 0]\n",
    "plt.pie(conteo_list_pro, labels = leyendas, explode = explosion)\n"
   ]
  },
  {
   "cell_type": "code",
   "execution_count": 39,
   "id": "e62032e1",
   "metadata": {},
   "outputs": [
    {
     "data": {
      "text/plain": [
       "([<matplotlib.patches.Wedge at 0x1facf3480d0>,\n",
       "  <matplotlib.patches.Wedge at 0x1facf3485b0>],\n",
       " [Text(1.2866749036104321, 0.18565476675562506, 'Tweets con imagenes :)'),\n",
       "  Text(-1.0887249276321325, -0.15709243123845207, 'Tweets sin imagenes :(')])"
      ]
     },
     "execution_count": 39,
     "metadata": {},
     "output_type": "execute_result"
    },
    {
     "data": {
      "image/png": "[encoded data removed]",
      "text/plain": [
       "<Figure size 432x288 with 1 Axes>"
      ]
     },
     "metadata": {},
     "output_type": "display_data"
    }
   ],
   "source": [
    "#grafica de proporcion de tweets con fotos en menciones de Barassi\n",
    "conteo_bar= df_menciones_bar[\"id\"].size\n",
    "conteo_bar_media= df_menciones_bar_media[\"id\"].size\n",
    "conteo_bar_no_media=conteo_bar - conteo_bar_media\n",
    "conteo_list_b=[conteo_bar_media,conteo_bar_no_media]\n",
    "leyendas=[\"Tweets con imagenes :)\", \"Tweets sin imagenes :(\"]\n",
    "explosion = [0.2, 0]\n",
    "plt.pie(conteo_list_b, labels = leyendas, explode = explosion)"
   ]
  },
  {
   "cell_type": "markdown",
   "id": "ae8880ce",
   "metadata": {},
   "source": [
    "## descargar imagenes"
   ]
  },
  {
   "cell_type": "code",
   "execution_count": 40,
   "id": "a296ece6",
   "metadata": {},
   "outputs": [
    {
     "name": "stderr",
     "output_type": "stream",
     "text": [
      "<ipython-input-40-b979940dd2ec>:1: SettingWithCopyWarning: \n",
      "A value is trying to be set on a copy of a slice from a DataFrame.\n",
      "Try using .loc[row_indexer,col_indexer] = value instead\n",
      "\n",
      "See the caveats in the documentation: https://pandas.pydata.org/pandas-docs/stable/user_guide/indexing.html#returning-a-view-versus-a-copy\n",
      "  df_menciones_bar_media[\"photos\"]=df_menciones_bar_media[\"photos\"].apply(eval)\n",
      "<ipython-input-40-b979940dd2ec>:2: SettingWithCopyWarning: \n",
      "A value is trying to be set on a copy of a slice from a DataFrame.\n",
      "Try using .loc[row_indexer,col_indexer] = value instead\n",
      "\n",
      "See the caveats in the documentation: https://pandas.pydata.org/pandas-docs/stable/user_guide/indexing.html#returning-a-view-versus-a-copy\n",
      "  df_menciones_pro_media[\"photos\"]=df_menciones_pro_media[\"photos\"].apply(eval)\n"
     ]
    }
   ],
   "source": [
    "#convertir los elementos de la columna fotos para poder iterar mejor en los elementos que tienen más de una foto\n",
    "df_menciones_bar_media[\"photos\"]=df_menciones_bar_media[\"photos\"].apply(eval)\n",
    "df_menciones_pro_media[\"photos\"]=df_menciones_pro_media[\"photos\"].apply(eval)\n",
    "#no preocuparse por el mensaje de warning que aparece"
   ]
  },
  {
   "cell_type": "code",
   "execution_count": null,
   "id": "29d6a434",
   "metadata": {
    "scrolled": true
   },
   "outputs": [],
   "source": [
    "#funcion para contar la cantidad de fotos de cada tweet, la hice más que nada para ver si se modifico correctamente el tipo de dato\n",
    "def len_photos (photo):\n",
    "    len_photo=len(photo)\n",
    "    return len_photo\n",
    "df_menciones_bar_media[\"len_photos\"]=df_menciones_bar_media[\"photos\"].apply(len_photos)\n",
    "df_menciones_pro_media[\"len_photos\"]=df_menciones_pro_media[\"photos\"].apply(len_photos)"
   ]
  },
  {
   "cell_type": "code",
   "execution_count": null,
   "id": "a040cb8b",
   "metadata": {
    "scrolled": true
   },
   "outputs": [],
   "source": [
    "#df_menciones_bar_media[\"photos\"]"
   ]
  },
  {
   "cell_type": "code",
   "execution_count": null,
   "id": "4169d53e",
   "metadata": {
    "scrolled": true
   },
   "outputs": [],
   "source": [
    "#df_menciones_pro_media[\"photos\"]"
   ]
  },
  {
   "cell_type": "markdown",
   "id": "4aca68df",
   "metadata": {},
   "source": [
    "# Descarga de imágenes"
   ]
  },
  {
   "cell_type": "code",
   "execution_count": null,
   "id": "ba625001",
   "metadata": {},
   "outputs": [],
   "source": [
    "#funcion de prueba para revisar que extensiones de imagenes hay en el dataframe pueden ser jpg,png e incluso gif (en este caso no hay gifs)\n",
    "def is_jpg (photo):\n",
    "    for p in photo:\n",
    "        x=re.search(\"....$\",p)\n",
    "        x=x.group(0)\n",
    "    return x\n",
    "df_menciones_bar_media[\"photos\"].apply(is_jpg).value_counts()\n",
    "#si da error la ejecución es por que en el dataframe hay valores que no machean con la busqueda por lo que hay rows deberian limpiarse(no me preocupa ahora mismo)"
   ]
  },
  {
   "cell_type": "code",
   "execution_count": 59,
   "id": "87cc0ce5",
   "metadata": {},
   "outputs": [],
   "source": [
    "#librerias para esto\n",
    "import requests\n",
    "import re"
   ]
  },
  {
   "cell_type": "code",
   "execution_count": 75,
   "id": "968ceacc",
   "metadata": {},
   "outputs": [],
   "source": [
    "#funcion descargar imagenes\n",
    "def descargar_img_t (ids,photos): #recibe dos parametros columna id(que contiene el id del tweet) y photos(que son listas con urls donde estan las imagenes)\n",
    "    ruta=\"D:\\FotosBarassi2\" #se define la ruta de la carpeta donde se guadaran las fotos\n",
    "    for p in photos: #iterar en cada array de fotos\n",
    "        z=re.search(\"....$\",p) #extrae la extensión del archivo de la url, en este punto se guarda un objeto re.match \n",
    "        z=z.group(0) #extrae la extensión del objeto re.match \n",
    "        y=photos.index(p) #extra el lugar de la url dentro del array de links de fotos de un tweet\n",
    "        ruta_completa=ruta +\"\\\\\"+ str(ids) + \"_\" + str(y) + z   #crea la ruta completa sumando la ruta, una barra, el id del tweet para poder identificar de donde sale la foto, el indice de la foto (por que puede haber más de una foto por tweet) y la extension\n",
    "        imagen=requests.get(p).content #se conecta a la url\n",
    "        with open(ruta_completa, \"wb\") as handler: #crea el archivo de la imagen y lo abre\n",
    "            handler.write(imagen) #guarda la foto que descargó\n"
   ]
  },
  {
   "cell_type": "markdown",
   "id": "3679979d",
   "metadata": {},
   "source": [
    "esta linea es la que aplica la funcion de arriba y la que descargará las imagenes:<br>\n",
    "primero se define el df que se quiere utilizar,<br>\n",
    "luego las dos columnas del df\n",
    "luego se aplica un lambda para separar las dos colunas y mandarlas separadas a la funcion\n",
    "\n"
   ]
  },
  {
   "cell_type": "code",
   "execution_count": 78,
   "id": "3f1d9c2e",
   "metadata": {
    "scrolled": true
   },
   "outputs": [
    {
     "data": {
      "text/plain": [
       "5591      None\n",
       "36194     None\n",
       "33299     None\n",
       "109629    None\n",
       "52099     None\n",
       "          ... \n",
       "94890     None\n",
       "18564     None\n",
       "86677     None\n",
       "10508     None\n",
       "9168      None\n",
       "Length: 100, dtype: object"
      ]
     },
     "execution_count": 78,
     "metadata": {},
     "output_type": "execute_result"
    }
   ],
   "source": [
    "#funcion para aplicar la descarga\n",
    "df_menciones_pro_media_top100[[\"id\",\"photos\"]].apply(lambda x: descargar_img_t(*x), axis=1)"
   ]
  },
  {
   "cell_type": "code",
   "execution_count": null,
   "id": "9d273e24",
   "metadata": {},
   "outputs": [],
   "source": [
    "#por si se para la descarga:\n",
    "#revisar cual fue la ultima foto descargada, copiar el id del nombre \n",
    "#crear un nuevo df cuyo id sea menor a al del nombre de la foto\n",
    "#la descarga se aplica de arriba a abajo del df \n",
    "#arriba estan los tweets más nuevos \n",
    "df_menciones_pro_media_2 =df_menciones_pro_media[df_menciones_pro_media[\"id\"] < 1366825092458704896]\n",
    "df_menciones_pro_media_2"
   ]
  },
  {
   "cell_type": "code",
   "execution_count": 47,
   "id": "107e6a3c",
   "metadata": {},
   "outputs": [],
   "source": [
    "#aca queria revisar que tantos tweets habia con más de 50 likes y descargar todas estas imagenes\n",
    "df_menciones_pro_media_filter=df_menciones_pro_media[df_menciones_pro_media[\"likes_count\"] >=50]\n",
    "df_menciones_bar_media_filter=df_menciones_bar_media[df_menciones_bar_media[\"likes_count\"] >=50]"
   ]
  },
  {
   "cell_type": "code",
   "execution_count": 48,
   "id": "7385c8c5",
   "metadata": {
    "scrolled": true
   },
   "outputs": [
    {
     "name": "stdout",
     "output_type": "stream",
     "text": [
      "1459\n",
      "990\n"
     ]
    }
   ],
   "source": [
    "print(df_menciones_pro_media_filter[\"id\"].size)\n",
    "print(df_menciones_bar_media_filter[\"id\"].size)"
   ]
  },
  {
   "cell_type": "code",
   "execution_count": 50,
   "id": "c8b57202",
   "metadata": {
    "scrolled": true
   },
   "outputs": [],
   "source": [
    "#al final termine descargando solo las 100 fotos con más likes  \n",
    "#cree los dataframes y use la funcion de descarga que muestro arriba\n",
    "df_menciones_bar_media_top100=df_menciones_bar_media.sort_values(\"likes_count\", ascending=False).head(100)\n",
    "df_menciones_pro_media_top100=df_menciones_pro_media.sort_values(\"likes_count\", ascending=False).head(100)"
   ]
  },
  {
   "cell_type": "code",
   "execution_count": 77,
   "id": "928b42b2",
   "metadata": {
    "scrolled": true
   },
   "outputs": [
    {
     "data": {
      "text/html": [
       "<div>\n",
       "<style scoped>\n",
       "    .dataframe tbody tr th:only-of-type {\n",
       "        vertical-align: middle;\n",
       "    }\n",
       "\n",
       "    .dataframe tbody tr th {\n",
       "        vertical-align: top;\n",
       "    }\n",
       "\n",
       "    .dataframe thead th {\n",
       "        text-align: right;\n",
       "    }\n",
       "</style>\n",
       "<table border=\"1\" class=\"dataframe\">\n",
       "  <thead>\n",
       "    <tr style=\"text-align: right;\">\n",
       "      <th></th>\n",
       "      <th>id</th>\n",
       "      <th>conversation_id</th>\n",
       "      <th>date</th>\n",
       "      <th>time</th>\n",
       "      <th>user_id</th>\n",
       "      <th>username</th>\n",
       "      <th>tweet</th>\n",
       "      <th>mentions</th>\n",
       "      <th>urls</th>\n",
       "      <th>photos</th>\n",
       "      <th>...</th>\n",
       "      <th>retweets_count</th>\n",
       "      <th>likes_count</th>\n",
       "      <th>hashtags</th>\n",
       "      <th>link</th>\n",
       "      <th>quote_url</th>\n",
       "      <th>video</th>\n",
       "      <th>thumbnail</th>\n",
       "      <th>reply_to</th>\n",
       "      <th>tweet_limpio</th>\n",
       "      <th>Sentimientos</th>\n",
       "    </tr>\n",
       "  </thead>\n",
       "  <tbody>\n",
       "    <tr>\n",
       "      <th>5591</th>\n",
       "      <td>1390018883390685185</td>\n",
       "      <td>1390018883390685185</td>\n",
       "      <td>2021-05-05</td>\n",
       "      <td>2021-09-23 16:01:41</td>\n",
       "      <td>3388072487</td>\n",
       "      <td>julianmendozza</td>\n",
       "      <td>De que lado de la mecha te encontrás?  Rt Guid...</td>\n",
       "      <td>[]</td>\n",
       "      <td>[]</td>\n",
       "      <td>[https://pbs.twimg.com/media/E0pWzYaWYAo8jZe.j...</td>\n",
       "      <td>...</td>\n",
       "      <td>1313</td>\n",
       "      <td>84689</td>\n",
       "      <td>[]</td>\n",
       "      <td>https://twitter.com/julianmendozza/status/1390...</td>\n",
       "      <td>NaN</td>\n",
       "      <td>1</td>\n",
       "      <td>https://pbs.twimg.com/media/E0pWzYaWYAo8jZe.jpg</td>\n",
       "      <td>[]</td>\n",
       "      <td>de que lado de la mecha te encontras rt guido ...</td>\n",
       "      <td>pos</td>\n",
       "    </tr>\n",
       "    <tr>\n",
       "      <th>36194</th>\n",
       "      <td>1347732306862223365</td>\n",
       "      <td>1347732306862223365</td>\n",
       "      <td>2021-01-08</td>\n",
       "      <td>2021-09-23 23:29:56</td>\n",
       "      <td>201115273</td>\n",
       "      <td>bedefecchi</td>\n",
       "      <td>Lo que le escribió Barassi a la novia por su c...</td>\n",
       "      <td>[]</td>\n",
       "      <td>[]</td>\n",
       "      <td>[https://pbs.twimg.com/media/ErQbYGoW8AALSTc.j...</td>\n",
       "      <td>...</td>\n",
       "      <td>6876</td>\n",
       "      <td>68486</td>\n",
       "      <td>[]</td>\n",
       "      <td>https://twitter.com/bedefecchi/status/13477323...</td>\n",
       "      <td>NaN</td>\n",
       "      <td>1</td>\n",
       "      <td>https://pbs.twimg.com/media/ErQbYGoW8AALSTc.jpg</td>\n",
       "      <td>[]</td>\n",
       "      <td>lo que le escribio barassi la novia por su cum...</td>\n",
       "      <td>neg</td>\n",
       "    </tr>\n",
       "    <tr>\n",
       "      <th>33299</th>\n",
       "      <td>1427671620307636240</td>\n",
       "      <td>1427671620307636240</td>\n",
       "      <td>2021-08-17</td>\n",
       "      <td>2021-09-23 13:40:13</td>\n",
       "      <td>1242810644</td>\n",
       "      <td>luupstein</td>\n",
       "      <td>Bueno creo que me sigue el pibe que fue al pro...</td>\n",
       "      <td>[]</td>\n",
       "      <td>[]</td>\n",
       "      <td>[https://pbs.twimg.com/media/E9AbxUjWEAIDBmg.jpg]</td>\n",
       "      <td>...</td>\n",
       "      <td>656</td>\n",
       "      <td>41263</td>\n",
       "      <td>[]</td>\n",
       "      <td>https://twitter.com/luupstein/status/142767162...</td>\n",
       "      <td>NaN</td>\n",
       "      <td>1</td>\n",
       "      <td>https://pbs.twimg.com/media/E9AbxUjWEAIDBmg.jpg</td>\n",
       "      <td>[]</td>\n",
       "      <td>bueno creo que me sigue el pibe que fue al pro...</td>\n",
       "      <td>neu</td>\n",
       "    </tr>\n",
       "    <tr>\n",
       "      <th>109629</th>\n",
       "      <td>1427671620307636240</td>\n",
       "      <td>1427671620307636240</td>\n",
       "      <td>2021-08-17</td>\n",
       "      <td>2021-09-23 13:40:13</td>\n",
       "      <td>1242810644</td>\n",
       "      <td>luupstein</td>\n",
       "      <td>Bueno creo que me sigue el pibe que fue al pro...</td>\n",
       "      <td>[]</td>\n",
       "      <td>[]</td>\n",
       "      <td>[https://pbs.twimg.com/media/E9AbxUjWEAIDBmg.jpg]</td>\n",
       "      <td>...</td>\n",
       "      <td>655</td>\n",
       "      <td>41262</td>\n",
       "      <td>[]</td>\n",
       "      <td>https://twitter.com/luupstein/status/142767162...</td>\n",
       "      <td>NaN</td>\n",
       "      <td>1</td>\n",
       "      <td>https://pbs.twimg.com/media/E9AbxUjWEAIDBmg.jpg</td>\n",
       "      <td>[]</td>\n",
       "      <td>bueno creo que me sigue el pibe que fue al pro...</td>\n",
       "      <td>neu</td>\n",
       "    </tr>\n",
       "    <tr>\n",
       "      <th>52099</th>\n",
       "      <td>1421311134955671557</td>\n",
       "      <td>1421311134955671557</td>\n",
       "      <td>2021-07-31</td>\n",
       "      <td>2021-09-23 00:25:55</td>\n",
       "      <td>2850552243</td>\n",
       "      <td>berrettasofi</td>\n",
       "      <td>el gordo barassi  https://t.co/wm4zBF3vkW</td>\n",
       "      <td>[]</td>\n",
       "      <td>[]</td>\n",
       "      <td>[https://pbs.twimg.com/media/E7mC8FBWEAUgXyk.j...</td>\n",
       "      <td>...</td>\n",
       "      <td>938</td>\n",
       "      <td>30573</td>\n",
       "      <td>[]</td>\n",
       "      <td>https://twitter.com/berrettasofi/status/142131...</td>\n",
       "      <td>NaN</td>\n",
       "      <td>1</td>\n",
       "      <td>https://pbs.twimg.com/media/E7mC8FBWEAUgXyk.jpg</td>\n",
       "      <td>[]</td>\n",
       "      <td>el gordo barassi</td>\n",
       "      <td>pos</td>\n",
       "    </tr>\n",
       "    <tr>\n",
       "      <th>...</th>\n",
       "      <td>...</td>\n",
       "      <td>...</td>\n",
       "      <td>...</td>\n",
       "      <td>...</td>\n",
       "      <td>...</td>\n",
       "      <td>...</td>\n",
       "      <td>...</td>\n",
       "      <td>...</td>\n",
       "      <td>...</td>\n",
       "      <td>...</td>\n",
       "      <td>...</td>\n",
       "      <td>...</td>\n",
       "      <td>...</td>\n",
       "      <td>...</td>\n",
       "      <td>...</td>\n",
       "      <td>...</td>\n",
       "      <td>...</td>\n",
       "      <td>...</td>\n",
       "      <td>...</td>\n",
       "      <td>...</td>\n",
       "      <td>...</td>\n",
       "    </tr>\n",
       "    <tr>\n",
       "      <th>94890</th>\n",
       "      <td>1433985219544166403</td>\n",
       "      <td>1433936505559523335</td>\n",
       "      <td>2021-09-03</td>\n",
       "      <td>2021-09-23 23:48:13</td>\n",
       "      <td>1405305882917978112</td>\n",
       "      <td>kondatodopiola</td>\n",
       "      <td>@becerravocals ya existía un Barassi en USA  h...</td>\n",
       "      <td>[]</td>\n",
       "      <td>[]</td>\n",
       "      <td>[https://pbs.twimg.com/media/E-aJ9PGWYAI1y7D.jpg]</td>\n",
       "      <td>...</td>\n",
       "      <td>14</td>\n",
       "      <td>1239</td>\n",
       "      <td>[]</td>\n",
       "      <td>https://twitter.com/kondatodopiola/status/1433...</td>\n",
       "      <td>NaN</td>\n",
       "      <td>1</td>\n",
       "      <td>https://pbs.twimg.com/media/E-aJ9PGWYAI1y7D.jpg</td>\n",
       "      <td>[{'screen_name': 'becerravocals', 'name': 'yaz...</td>\n",
       "      <td>ya existia un barassi en usa</td>\n",
       "      <td>neu</td>\n",
       "    </tr>\n",
       "    <tr>\n",
       "      <th>18564</th>\n",
       "      <td>1433985219544166403</td>\n",
       "      <td>1433936505559523335</td>\n",
       "      <td>2021-09-03</td>\n",
       "      <td>2021-09-23 23:48:13</td>\n",
       "      <td>1405305882917978112</td>\n",
       "      <td>kondatodopiola</td>\n",
       "      <td>@becerravocals ya existía un Barassi en USA  h...</td>\n",
       "      <td>[]</td>\n",
       "      <td>[]</td>\n",
       "      <td>[https://pbs.twimg.com/media/E-aJ9PGWYAI1y7D.jpg]</td>\n",
       "      <td>...</td>\n",
       "      <td>14</td>\n",
       "      <td>1239</td>\n",
       "      <td>[]</td>\n",
       "      <td>https://twitter.com/kondatodopiola/status/1433...</td>\n",
       "      <td>NaN</td>\n",
       "      <td>1</td>\n",
       "      <td>https://pbs.twimg.com/media/E-aJ9PGWYAI1y7D.jpg</td>\n",
       "      <td>[{'screen_name': 'becerravocals', 'name': 'yaz...</td>\n",
       "      <td>ya existia un barassi en usa</td>\n",
       "      <td>neu</td>\n",
       "    </tr>\n",
       "    <tr>\n",
       "      <th>86677</th>\n",
       "      <td>1437472341815173122</td>\n",
       "      <td>1437472341815173122</td>\n",
       "      <td>2021-09-13</td>\n",
       "      <td>2021-09-23 14:44:47</td>\n",
       "      <td>157493684</td>\n",
       "      <td>faqucazon_</td>\n",
       "      <td>#MatchGame queremos a barassi, fuera rada! QUE...</td>\n",
       "      <td>[]</td>\n",
       "      <td>[]</td>\n",
       "      <td>[https://pbs.twimg.com/media/E_LtedmXMAEfyr5.jpg]</td>\n",
       "      <td>...</td>\n",
       "      <td>195</td>\n",
       "      <td>1225</td>\n",
       "      <td>['matchgame', '100argentinosdicen']</td>\n",
       "      <td>https://twitter.com/FaquCazon_/status/14374723...</td>\n",
       "      <td>NaN</td>\n",
       "      <td>1</td>\n",
       "      <td>https://pbs.twimg.com/media/E_LtedmXMAEfyr5.jpg</td>\n",
       "      <td>[]</td>\n",
       "      <td>queremos barassi fuera rada queremos barassi f...</td>\n",
       "      <td>neu</td>\n",
       "    </tr>\n",
       "    <tr>\n",
       "      <th>10508</th>\n",
       "      <td>1437472341815173122</td>\n",
       "      <td>1437472341815173122</td>\n",
       "      <td>2021-09-13</td>\n",
       "      <td>2021-09-23 14:44:47</td>\n",
       "      <td>157493684</td>\n",
       "      <td>faqucazon_</td>\n",
       "      <td>#MatchGame queremos a barassi, fuera rada! QUE...</td>\n",
       "      <td>[]</td>\n",
       "      <td>[]</td>\n",
       "      <td>[https://pbs.twimg.com/media/E_LtedmXMAEfyr5.jpg]</td>\n",
       "      <td>...</td>\n",
       "      <td>195</td>\n",
       "      <td>1224</td>\n",
       "      <td>['matchgame', '100argentinosdicen']</td>\n",
       "      <td>https://twitter.com/FaquCazon_/status/14374723...</td>\n",
       "      <td>NaN</td>\n",
       "      <td>1</td>\n",
       "      <td>https://pbs.twimg.com/media/E_LtedmXMAEfyr5.jpg</td>\n",
       "      <td>[]</td>\n",
       "      <td>queremos barassi fuera rada queremos barassi f...</td>\n",
       "      <td>neu</td>\n",
       "    </tr>\n",
       "    <tr>\n",
       "      <th>9168</th>\n",
       "      <td>1385593178368221187</td>\n",
       "      <td>1385593178368221187</td>\n",
       "      <td>2021-04-23</td>\n",
       "      <td>2021-09-23 10:55:31</td>\n",
       "      <td>4264395195</td>\n",
       "      <td>saintjohnino</td>\n",
       "      <td>Hola @dariobarassi le hice un dibujito porque ...</td>\n",
       "      <td>[{'screen_name': 'dariobarassi', 'name': 'dari...</td>\n",
       "      <td>[]</td>\n",
       "      <td>[https://pbs.twimg.com/media/EzqdpvCXoAQzx-q.jpg]</td>\n",
       "      <td>...</td>\n",
       "      <td>116</td>\n",
       "      <td>1215</td>\n",
       "      <td>[]</td>\n",
       "      <td>https://twitter.com/saintjohnino/status/138559...</td>\n",
       "      <td>NaN</td>\n",
       "      <td>1</td>\n",
       "      <td>https://pbs.twimg.com/media/EzqdpvCXoAQzx-q.jpg</td>\n",
       "      <td>[]</td>\n",
       "      <td>hola le hice un dibujito porque ud es el mejor...</td>\n",
       "      <td>neu</td>\n",
       "    </tr>\n",
       "  </tbody>\n",
       "</table>\n",
       "<p>100 rows × 21 columns</p>\n",
       "</div>"
      ],
      "text/plain": [
       "                         id      conversation_id       date  \\\n",
       "5591    1390018883390685185  1390018883390685185 2021-05-05   \n",
       "36194   1347732306862223365  1347732306862223365 2021-01-08   \n",
       "33299   1427671620307636240  1427671620307636240 2021-08-17   \n",
       "109629  1427671620307636240  1427671620307636240 2021-08-17   \n",
       "52099   1421311134955671557  1421311134955671557 2021-07-31   \n",
       "...                     ...                  ...        ...   \n",
       "94890   1433985219544166403  1433936505559523335 2021-09-03   \n",
       "18564   1433985219544166403  1433936505559523335 2021-09-03   \n",
       "86677   1437472341815173122  1437472341815173122 2021-09-13   \n",
       "10508   1437472341815173122  1437472341815173122 2021-09-13   \n",
       "9168    1385593178368221187  1385593178368221187 2021-04-23   \n",
       "\n",
       "                      time              user_id        username  \\\n",
       "5591   2021-09-23 16:01:41           3388072487  julianmendozza   \n",
       "36194  2021-09-23 23:29:56            201115273      bedefecchi   \n",
       "33299  2021-09-23 13:40:13           1242810644       luupstein   \n",
       "109629 2021-09-23 13:40:13           1242810644       luupstein   \n",
       "52099  2021-09-23 00:25:55           2850552243    berrettasofi   \n",
       "...                    ...                  ...             ...   \n",
       "94890  2021-09-23 23:48:13  1405305882917978112  kondatodopiola   \n",
       "18564  2021-09-23 23:48:13  1405305882917978112  kondatodopiola   \n",
       "86677  2021-09-23 14:44:47            157493684      faqucazon_   \n",
       "10508  2021-09-23 14:44:47            157493684      faqucazon_   \n",
       "9168   2021-09-23 10:55:31           4264395195    saintjohnino   \n",
       "\n",
       "                                                    tweet  \\\n",
       "5591    De que lado de la mecha te encontrás?  Rt Guid...   \n",
       "36194   Lo que le escribió Barassi a la novia por su c...   \n",
       "33299   Bueno creo que me sigue el pibe que fue al pro...   \n",
       "109629  Bueno creo que me sigue el pibe que fue al pro...   \n",
       "52099           el gordo barassi  https://t.co/wm4zBF3vkW   \n",
       "...                                                   ...   \n",
       "94890   @becerravocals ya existía un Barassi en USA  h...   \n",
       "18564   @becerravocals ya existía un Barassi en USA  h...   \n",
       "86677   #MatchGame queremos a barassi, fuera rada! QUE...   \n",
       "10508   #MatchGame queremos a barassi, fuera rada! QUE...   \n",
       "9168    Hola @dariobarassi le hice un dibujito porque ...   \n",
       "\n",
       "                                                 mentions urls  \\\n",
       "5591                                                   []   []   \n",
       "36194                                                  []   []   \n",
       "33299                                                  []   []   \n",
       "109629                                                 []   []   \n",
       "52099                                                  []   []   \n",
       "...                                                   ...  ...   \n",
       "94890                                                  []   []   \n",
       "18564                                                  []   []   \n",
       "86677                                                  []   []   \n",
       "10508                                                  []   []   \n",
       "9168    [{'screen_name': 'dariobarassi', 'name': 'dari...   []   \n",
       "\n",
       "                                                   photos  ...  \\\n",
       "5591    [https://pbs.twimg.com/media/E0pWzYaWYAo8jZe.j...  ...   \n",
       "36194   [https://pbs.twimg.com/media/ErQbYGoW8AALSTc.j...  ...   \n",
       "33299   [https://pbs.twimg.com/media/E9AbxUjWEAIDBmg.jpg]  ...   \n",
       "109629  [https://pbs.twimg.com/media/E9AbxUjWEAIDBmg.jpg]  ...   \n",
       "52099   [https://pbs.twimg.com/media/E7mC8FBWEAUgXyk.j...  ...   \n",
       "...                                                   ...  ...   \n",
       "94890   [https://pbs.twimg.com/media/E-aJ9PGWYAI1y7D.jpg]  ...   \n",
       "18564   [https://pbs.twimg.com/media/E-aJ9PGWYAI1y7D.jpg]  ...   \n",
       "86677   [https://pbs.twimg.com/media/E_LtedmXMAEfyr5.jpg]  ...   \n",
       "10508   [https://pbs.twimg.com/media/E_LtedmXMAEfyr5.jpg]  ...   \n",
       "9168    [https://pbs.twimg.com/media/EzqdpvCXoAQzx-q.jpg]  ...   \n",
       "\n",
       "        retweets_count  likes_count                             hashtags  \\\n",
       "5591              1313        84689                                   []   \n",
       "36194             6876        68486                                   []   \n",
       "33299              656        41263                                   []   \n",
       "109629             655        41262                                   []   \n",
       "52099              938        30573                                   []   \n",
       "...                ...          ...                                  ...   \n",
       "94890               14         1239                                   []   \n",
       "18564               14         1239                                   []   \n",
       "86677              195         1225  ['matchgame', '100argentinosdicen']   \n",
       "10508              195         1224  ['matchgame', '100argentinosdicen']   \n",
       "9168               116         1215                                   []   \n",
       "\n",
       "                                                     link quote_url video  \\\n",
       "5591    https://twitter.com/julianmendozza/status/1390...       NaN     1   \n",
       "36194   https://twitter.com/bedefecchi/status/13477323...       NaN     1   \n",
       "33299   https://twitter.com/luupstein/status/142767162...       NaN     1   \n",
       "109629  https://twitter.com/luupstein/status/142767162...       NaN     1   \n",
       "52099   https://twitter.com/berrettasofi/status/142131...       NaN     1   \n",
       "...                                                   ...       ...   ...   \n",
       "94890   https://twitter.com/kondatodopiola/status/1433...       NaN     1   \n",
       "18564   https://twitter.com/kondatodopiola/status/1433...       NaN     1   \n",
       "86677   https://twitter.com/FaquCazon_/status/14374723...       NaN     1   \n",
       "10508   https://twitter.com/FaquCazon_/status/14374723...       NaN     1   \n",
       "9168    https://twitter.com/saintjohnino/status/138559...       NaN     1   \n",
       "\n",
       "                                              thumbnail  \\\n",
       "5591    https://pbs.twimg.com/media/E0pWzYaWYAo8jZe.jpg   \n",
       "36194   https://pbs.twimg.com/media/ErQbYGoW8AALSTc.jpg   \n",
       "33299   https://pbs.twimg.com/media/E9AbxUjWEAIDBmg.jpg   \n",
       "109629  https://pbs.twimg.com/media/E9AbxUjWEAIDBmg.jpg   \n",
       "52099   https://pbs.twimg.com/media/E7mC8FBWEAUgXyk.jpg   \n",
       "...                                                 ...   \n",
       "94890   https://pbs.twimg.com/media/E-aJ9PGWYAI1y7D.jpg   \n",
       "18564   https://pbs.twimg.com/media/E-aJ9PGWYAI1y7D.jpg   \n",
       "86677   https://pbs.twimg.com/media/E_LtedmXMAEfyr5.jpg   \n",
       "10508   https://pbs.twimg.com/media/E_LtedmXMAEfyr5.jpg   \n",
       "9168    https://pbs.twimg.com/media/EzqdpvCXoAQzx-q.jpg   \n",
       "\n",
       "                                                 reply_to  \\\n",
       "5591                                                   []   \n",
       "36194                                                  []   \n",
       "33299                                                  []   \n",
       "109629                                                 []   \n",
       "52099                                                  []   \n",
       "...                                                   ...   \n",
       "94890   [{'screen_name': 'becerravocals', 'name': 'yaz...   \n",
       "18564   [{'screen_name': 'becerravocals', 'name': 'yaz...   \n",
       "86677                                                  []   \n",
       "10508                                                  []   \n",
       "9168                                                   []   \n",
       "\n",
       "                                             tweet_limpio Sentimientos  \n",
       "5591    de que lado de la mecha te encontras rt guido ...          pos  \n",
       "36194   lo que le escribio barassi la novia por su cum...          neg  \n",
       "33299   bueno creo que me sigue el pibe que fue al pro...          neu  \n",
       "109629  bueno creo que me sigue el pibe que fue al pro...          neu  \n",
       "52099                                    el gordo barassi          pos  \n",
       "...                                                   ...          ...  \n",
       "94890                        ya existia un barassi en usa          neu  \n",
       "18564                        ya existia un barassi en usa          neu  \n",
       "86677   queremos barassi fuera rada queremos barassi f...          neu  \n",
       "10508   queremos barassi fuera rada queremos barassi f...          neu  \n",
       "9168    hola le hice un dibujito porque ud es el mejor...          neu  \n",
       "\n",
       "[100 rows x 21 columns]"
      ]
     },
     "execution_count": 77,
     "metadata": {},
     "output_type": "execute_result"
    }
   ],
   "source": [
    "df_menciones_pro_media_top100"
   ]
  },
  {
   "cell_type": "markdown",
   "id": "1aa5802f",
   "metadata": {},
   "source": [
    "## word clouds"
   ]
  },
  {
   "cell_type": "code",
   "execution_count": 85,
   "id": "db733a0c",
   "metadata": {},
   "outputs": [],
   "source": [
    "#librerias para las wordclouds\n",
    "import stylecloud\n",
    "#https://github.com/minimaxir/stylecloud\n",
    "\n",
    "from wordcloud import WordCloud, ImageColorGenerator #más ejemplos de wordclouds https://github.com/amueller/word_cloud/tree/master/examples\n",
    "from PIL import Image #para importar imagenes\n",
    "from scipy.ndimage import gaussian_gradient_magnitude"
   ]
  },
  {
   "cell_type": "code",
   "execution_count": 94,
   "id": "ff6a2be7",
   "metadata": {},
   "outputs": [],
   "source": [
    "#hacer la word cloud de menc\n",
    "string_menciones_pro = ' '.join(df_menciones_pro[\"tweet_limpio\"])#crear un texto con todo lo que contiene la columna tweet limpio que creamos al principio \n",
    "style= stylecloud.gen_stylecloud(text= string_menciones_pro, #ingresar el texto desde una varible o un texto plano con comillas \"\"\n",
    "                             #file_path='Discurso.txt', #ingresa el texto desde un archivo (puede ser un csv cuyas columnas sean textos)\n",
    "                          icon_name=\"fab fa-twitter\", #nombre el icono desde la lista de font awesome\n",
    "                          \n",
    "                          colors='#1b95e0', #color de las letras, podemos poner un listado de coloreshtml ['#ecf0f1', '#3498db', '#e74c3c']\n",
    "                          background_color=\"#0e2439\", #color del fondo\n",
    "                          output_name='mencionespro.png', #nombre del archivo de salida\n",
    "                          collocations=False, #reconoce vocablos de dos palabras\n",
    "                          custom_stopwords=stopwordList #aplica limpieza de palabras sencillas\n",
    "                         )"
   ]
  },
  {
   "cell_type": "code",
   "execution_count": 95,
   "id": "377aecd6",
   "metadata": {},
   "outputs": [],
   "source": [
    "string_menciones_bar = ' '.join(df_menciones_bar.tweet_limpio)\n",
    "style= stylecloud.gen_stylecloud(text= string_menciones_bar, #ingresar el texto desde una varible o un texto plano con comillas \"\"\n",
    "                             #file_path='Discurso.txt', #ingresa el texto desde un archivo (puede ser un csv cuyas columnas sean textos)\n",
    "                          icon_name=\"fab fa-twitter\", #nombre el icono desde la lista de font awesome\n",
    "                          \n",
    "                          colors='#1b95e0', #color de las letras, podemos poner un listado de coloreshtml ['#ecf0f1', '#3498db', '#e74c3c']\n",
    "                          background_color=\"#0e2439\", #color del fondo\n",
    "                          output_name='mencionesbar-negativos.png', #nombre del archivo de salida\n",
    "                          collocations=False, #reconoce vocablos de dos palabras\n",
    "                          custom_stopwords=stopwordList #aplica limpieza de palabras sencillas\n",
    "                         )"
   ]
  },
  {
   "cell_type": "code",
   "execution_count": null,
   "id": "01c32697",
   "metadata": {},
   "outputs": [],
   "source": []
  }
 ],
 "metadata": {
  "kernelspec": {
   "display_name": "Python 3",
   "language": "python",
   "name": "python3"
  },
  "language_info": {
   "codemirror_mode": {
    "name": "ipython",
    "version": 3
   },
   "file_extension": ".py",
   "mimetype": "text/x-python",
   "name": "python",
   "nbconvert_exporter": "python",
   "pygments_lexer": "ipython3",
   "version": "3.8.8"
  }
 },
 "nbformat": 4,
 "nbformat_minor": 5
}
